{
 "cells": [
  {
   "cell_type": "markdown",
   "id": "ea18ef07",
   "metadata": {},
   "source": []
  },
  {
   "cell_type": "code",
   "execution_count": 2,
   "id": "d0e74439",
   "metadata": {},
   "outputs": [],
   "source": [
    "from langchain_community.tools import ArxivQueryRun, WikipediaQueryRun\n",
    "from langchain_community.utilities import WikipediaAPIWrapper, ArxivAPIWrapper"
   ]
  },
  {
   "cell_type": "code",
   "execution_count": 12,
   "id": "9aeb3820",
   "metadata": {},
   "outputs": [
    {
     "name": "stdout",
     "output_type": "stream",
     "text": [
      "arxiv\n"
     ]
    }
   ],
   "source": [
    "api_wrapper_arxiv=ArxivAPIWrapper(top_k_results=2, doc_content_chars_max=500)\n",
    "arxiv=ArxivQueryRun(api_wrapper=api_wrapper_arxiv)\n",
    "print(arxiv.name)"
   ]
  },
  {
   "cell_type": "code",
   "execution_count": 13,
   "id": "10e62721",
   "metadata": {},
   "outputs": [
    {
     "data": {
      "text/plain": [
       "'Published: 2017-09-19\\nTitle: Exploring Human-like Attention Supervision in Visual Question Answering\\nAuthors: Tingting Qiao, Jianfeng Dong, Duanqing Xu\\nSummary: Attention mechanisms have been widely applied in the Visual Question\\nAnswering (VQA) task, as they help to focus on the area-of-interest of both\\nvisual and textual information. To answer the questions correctly, the model\\nneeds to selectively target different areas of an image, which suggests that an\\nattention-based model may benefit fro'"
      ]
     },
     "execution_count": 13,
     "metadata": {},
     "output_type": "execute_result"
    }
   ],
   "source": [
    "arxiv.invoke(\"Attention all we need\")"
   ]
  },
  {
   "cell_type": "code",
   "execution_count": 11,
   "id": "75b6df93",
   "metadata": {},
   "outputs": [
    {
     "name": "stdout",
     "output_type": "stream",
     "text": [
      "wikipedia\n"
     ]
    }
   ],
   "source": [
    "api_wrapper_wiki=WikipediaAPIWrapper(top_k_results=1, doc_content_chars_max=500)\n",
    "wiki=WikipediaQueryRun(api_wrapper=api_wrapper_wiki)\n",
    "print(wiki.name)"
   ]
  },
  {
   "cell_type": "code",
   "execution_count": 16,
   "id": "f717ef73",
   "metadata": {},
   "outputs": [
    {
     "data": {
      "text/plain": [
       "'Page: Meghalaya\\nSummary: Meghalaya (; lit. \"the abode of clouds\") is a state in northeast India. Its capital is Shillong. Meghalaya was formed on 21 January 1972 by carving out two districts from the Assam: the United Khasi Hills and Jaintia Hills and the Garo Hills. The estimated population of Meghalaya in 2014 was 3,211,474. Meghalaya covers an area of approximately 22,429 square kilometres, with a length-to-breadth ratio of about 3:1. The state is bound to the south by the Bangladeshi divisio'"
      ]
     },
     "execution_count": 16,
     "metadata": {},
     "output_type": "execute_result"
    }
   ],
   "source": [
    "wiki.invoke(\"Where is meghalaya\")"
   ]
  },
  {
   "cell_type": "code",
   "execution_count": 17,
   "id": "bb49b059",
   "metadata": {},
   "outputs": [],
   "source": [
    "from dotenv import load_dotenv\n",
    "import os\n",
    "load_dotenv()\n",
    "\n",
    "os.environ[\"TAVILY_API_KEY\"]=os.getenv(\"TAVILY_API_KEY\")\n",
    "os.environ[\"GROQ_API_KEY\"]=os.getenv(\"GROQ_API_KEY\")"
   ]
  },
  {
   "cell_type": "code",
   "execution_count": 18,
   "id": "50ec3802",
   "metadata": {},
   "outputs": [
    {
     "name": "stderr",
     "output_type": "stream",
     "text": [
      "C:\\Users\\aijul\\AppData\\Local\\Temp\\ipykernel_4912\\819491451.py:2: LangChainDeprecationWarning: The class `TavilySearchResults` was deprecated in LangChain 0.3.25 and will be removed in 1.0. An updated version of the class exists in the :class:`~langchain-tavily package and should be used instead. To use it run `pip install -U :class:`~langchain-tavily` and import as `from :class:`~langchain_tavily import TavilySearch``.\n",
      "  tavily = TavilySearchResults()\n"
     ]
    }
   ],
   "source": [
    "from langchain_community.tools.tavily_search import TavilySearchResults\n",
    "tavily = TavilySearchResults()\n"
   ]
  },
  {
   "cell_type": "code",
   "execution_count": 20,
   "id": "346bc22f",
   "metadata": {},
   "outputs": [
    {
     "data": {
      "text/plain": [
       "[{'title': \"Assam News: Today's Latest & Breaking News From Assam | Pratidin Time\",\n",
       "  'url': 'https://www.pratidintime.com/latest-assam-news-breaking-news-assam',\n",
       "  'content': \"Welcome to Pratidin Time's Assam News section, your trusted source for the latest Assam news and updates. From breaking news to in-depth stories on local events, culture, and developments, we keep you informed about everything happening in the State.\",\n",
       "  'score': 0.7591723},\n",
       " {'title': 'Assam News: Latest Updates & Breaking Headlines - India Today',\n",
       "  'url': 'https://www.indiatoday.in/india/assam',\n",
       "  'content': 'Assam News: Get the latest Assam news updates from India Today. Stay informed with breaking news, analysis, and insights on politics, economy, culture, and more from Assam, India.',\n",
       "  'score': 0.7211353},\n",
       " {'title': 'Assam Current Affairs 2025: Download Free PDF - Testbook.com',\n",
       "  'url': 'https://testbook.com/current-affairs/assam-current-affairs',\n",
       "  'content': \"Assam Current Affairs 2025: Download Free PDF Assam Current Affairs : Get the latest news and updates about Assam across various fields including politics, culture, infrastructure, and social issues. Our in-depth coverage guarantees that you'll be fully informed about the state's progress and rich heritage, as it shapes the future of India.\",\n",
       "  'score': 0.7123327},\n",
       " {'title': 'Assam - Latest news, Live Updates, Politics, Events - The Hindu',\n",
       "  'url': 'https://www.thehindu.com/news/national/assam/',\n",
       "  'content': '### Congress \\'appeasement\\' of illegal immigrants led to massive encroachment of Satra land: Himanta Biswa Sarma\\n\\nDevotees visit the Kamakhya Temple to offer prayers as the doors reopen after the four-day Ambubachi Mela, in Guwahati, Thursday, June 26, 2025. \\n\\n### Ambubachi Mela: The festival celebrating menstrual hygiene in Assam\\n\\nDevotees visit the Kamakhya Temple to offer prayers as the doors reopen after the four-day Ambubachi Mela, in Guwahati, Thursday, June 26, 2025. [...] ### Kamakhya temple doors open after four days of \\'Ambubachi Mela\\'\\n\\nAssam Chief Minister Himanta Biswa Sarma meets the people from the Rabha community on June 24, 2025.\\n\\n### Joint Assam-Meghalaya hydropower project opposed\\n\\n### Three policemen injured in grenade attack in Assam\\n\\nAssam Chief Minister Himanta Biswa Sarma. File\\n\\n### Those who had strangled Constitution are now trying to become its protector: Assam CM Himanta Biswa Sarma [...] ### Asiatic wild dog returns to Assam’s Kaziranga landscape\\n\\n### Suspects involved in last week blast CRPF camp held; attacks in three towns foiled: Himanta\\n\\nFile photo of Union Minister Hardeep Singh Puri. \\n\\n### ONGC caps Assam gas well blowout after fortnight-long effort\\n\\n### Congress workers hurl water bottle at Assam CM’s convoy\\n\\nScreengrab from a video showing a water bottle being hurled at Assam CM Himanta Biswa Sarma’s convoy. (X/@Pijush_hazarika)\")',\n",
       "  'score': 0.7120925},\n",
       " {'title': 'Latest Assam News | Live Assamese News & Headlines - EastMojo',\n",
       "  'url': 'https://www.eastmojo.com/assam/',\n",
       "  'content': \"Get the latest Assam news, live Assamese updates, breaking headlines,and news from Northeast India. Stay informed with today's Assam news,live updates, and trending stories.\",\n",
       "  'score': 0.6786044}]"
      ]
     },
     "execution_count": 20,
     "metadata": {},
     "output_type": "execute_result"
    }
   ],
   "source": [
    "tavily.invoke(\"provide me the recent news of Assam\")"
   ]
  },
  {
   "cell_type": "code",
   "execution_count": 21,
   "id": "cafd53c4",
   "metadata": {},
   "outputs": [],
   "source": [
    "tools=[arxiv,wiki,tavily]"
   ]
  },
  {
   "cell_type": "code",
   "execution_count": 23,
   "id": "376b300d",
   "metadata": {},
   "outputs": [],
   "source": [
    "from langchain_groq import ChatGroq\n",
    "llm=ChatGroq(model=\"gemma2-9b-it\")\n",
    "\n",
    "llm_with_tools= llm.bind_tools(tools)"
   ]
  },
  {
   "cell_type": "code",
   "execution_count": 25,
   "id": "91d599bd",
   "metadata": {},
   "outputs": [
    {
     "data": {
      "text/plain": [
       "[{'name': 'tavily_search_results_json',\n",
       "  'args': {'query': 'recent AI news'},\n",
       "  'id': 'hvj2jw82s',\n",
       "  'type': 'tool_call'}]"
      ]
     },
     "execution_count": 25,
     "metadata": {},
     "output_type": "execute_result"
    }
   ],
   "source": [
    "from pprint import pprint\n",
    "from langchain_core.messages import AIMessage, HumanMessage\n",
    "llm_with_tools.invoke([HumanMessage(content=f\"what is the recent AI news\")]).tool_calls"
   ]
  },
  {
   "cell_type": "code",
   "execution_count": null,
   "id": "4e6f8aa8",
   "metadata": {},
   "outputs": [],
   "source": []
  },
  {
   "cell_type": "code",
   "execution_count": 1,
   "id": "53abb3e7",
   "metadata": {},
   "outputs": [
    {
     "name": "stdout",
     "output_type": "stream",
     "text": [
      "Collecting langchain-community\n",
      "  Downloading langchain_community-0.3.27-py3-none-any.whl.metadata (2.9 kB)\n",
      "Requirement already satisfied: langchain-core<1.0.0,>=0.3.66 in c:\\users\\aijul\\desktop\\22\\langgraph\\venv\\lib\\site-packages (from langchain-community) (0.3.67)\n",
      "Collecting langchain<1.0.0,>=0.3.26 (from langchain-community)\n",
      "  Using cached langchain-0.3.26-py3-none-any.whl.metadata (7.8 kB)\n",
      "Collecting SQLAlchemy<3,>=1.4 (from langchain-community)\n",
      "  Downloading sqlalchemy-2.0.41-cp312-cp312-win_amd64.whl.metadata (9.8 kB)\n",
      "Requirement already satisfied: requests<3,>=2 in c:\\users\\aijul\\desktop\\22\\langgraph\\venv\\lib\\site-packages (from langchain-community) (2.32.4)\n",
      "Requirement already satisfied: PyYAML>=5.3 in c:\\users\\aijul\\desktop\\22\\langgraph\\venv\\lib\\site-packages (from langchain-community) (6.0.2)\n",
      "Collecting aiohttp<4.0.0,>=3.8.3 (from langchain-community)\n",
      "  Downloading aiohttp-3.12.13-cp312-cp312-win_amd64.whl.metadata (7.9 kB)\n",
      "Requirement already satisfied: tenacity!=8.4.0,<10,>=8.1.0 in c:\\users\\aijul\\desktop\\22\\langgraph\\venv\\lib\\site-packages (from langchain-community) (9.1.2)\n",
      "Collecting dataclasses-json<0.7,>=0.5.7 (from langchain-community)\n",
      "  Using cached dataclasses_json-0.6.7-py3-none-any.whl.metadata (25 kB)\n",
      "Collecting pydantic-settings<3.0.0,>=2.4.0 (from langchain-community)\n",
      "  Downloading pydantic_settings-2.10.1-py3-none-any.whl.metadata (3.4 kB)\n",
      "Requirement already satisfied: langsmith>=0.1.125 in c:\\users\\aijul\\desktop\\22\\langgraph\\venv\\lib\\site-packages (from langchain-community) (0.4.4)\n",
      "Collecting httpx-sse<1.0.0,>=0.4.0 (from langchain-community)\n",
      "  Downloading httpx_sse-0.4.1-py3-none-any.whl.metadata (9.4 kB)\n",
      "Collecting numpy>=1.26.2 (from langchain-community)\n",
      "  Downloading numpy-2.3.1-cp312-cp312-win_amd64.whl.metadata (60 kB)\n",
      "Collecting aiohappyeyeballs>=2.5.0 (from aiohttp<4.0.0,>=3.8.3->langchain-community)\n",
      "  Using cached aiohappyeyeballs-2.6.1-py3-none-any.whl.metadata (5.9 kB)\n",
      "Collecting aiosignal>=1.1.2 (from aiohttp<4.0.0,>=3.8.3->langchain-community)\n",
      "  Using cached aiosignal-1.3.2-py2.py3-none-any.whl.metadata (3.8 kB)\n",
      "Collecting attrs>=17.3.0 (from aiohttp<4.0.0,>=3.8.3->langchain-community)\n",
      "  Using cached attrs-25.3.0-py3-none-any.whl.metadata (10 kB)\n",
      "Collecting frozenlist>=1.1.1 (from aiohttp<4.0.0,>=3.8.3->langchain-community)\n",
      "  Downloading frozenlist-1.7.0-cp312-cp312-win_amd64.whl.metadata (19 kB)\n",
      "Collecting multidict<7.0,>=4.5 (from aiohttp<4.0.0,>=3.8.3->langchain-community)\n",
      "  Downloading multidict-6.6.3-cp312-cp312-win_amd64.whl.metadata (5.4 kB)\n",
      "Collecting propcache>=0.2.0 (from aiohttp<4.0.0,>=3.8.3->langchain-community)\n",
      "  Downloading propcache-0.3.2-cp312-cp312-win_amd64.whl.metadata (12 kB)\n",
      "Collecting yarl<2.0,>=1.17.0 (from aiohttp<4.0.0,>=3.8.3->langchain-community)\n",
      "  Downloading yarl-1.20.1-cp312-cp312-win_amd64.whl.metadata (76 kB)\n",
      "Collecting marshmallow<4.0.0,>=3.18.0 (from dataclasses-json<0.7,>=0.5.7->langchain-community)\n",
      "  Using cached marshmallow-3.26.1-py3-none-any.whl.metadata (7.3 kB)\n",
      "Collecting typing-inspect<1,>=0.4.0 (from dataclasses-json<0.7,>=0.5.7->langchain-community)\n",
      "  Using cached typing_inspect-0.9.0-py3-none-any.whl.metadata (1.5 kB)\n",
      "Collecting langchain-text-splitters<1.0.0,>=0.3.8 (from langchain<1.0.0,>=0.3.26->langchain-community)\n",
      "  Using cached langchain_text_splitters-0.3.8-py3-none-any.whl.metadata (1.9 kB)\n",
      "Requirement already satisfied: pydantic<3.0.0,>=2.7.4 in c:\\users\\aijul\\desktop\\22\\langgraph\\venv\\lib\\site-packages (from langchain<1.0.0,>=0.3.26->langchain-community) (2.11.7)\n",
      "Requirement already satisfied: jsonpatch<2.0,>=1.33 in c:\\users\\aijul\\desktop\\22\\langgraph\\venv\\lib\\site-packages (from langchain-core<1.0.0,>=0.3.66->langchain-community) (1.33)\n",
      "Requirement already satisfied: packaging<25,>=23.2 in c:\\users\\aijul\\desktop\\22\\langgraph\\venv\\lib\\site-packages (from langchain-core<1.0.0,>=0.3.66->langchain-community) (24.2)\n",
      "Requirement already satisfied: typing-extensions>=4.7 in c:\\users\\aijul\\desktop\\22\\langgraph\\venv\\lib\\site-packages (from langchain-core<1.0.0,>=0.3.66->langchain-community) (4.14.0)\n",
      "Requirement already satisfied: jsonpointer>=1.9 in c:\\users\\aijul\\desktop\\22\\langgraph\\venv\\lib\\site-packages (from jsonpatch<2.0,>=1.33->langchain-core<1.0.0,>=0.3.66->langchain-community) (3.0.0)\n",
      "Requirement already satisfied: annotated-types>=0.6.0 in c:\\users\\aijul\\desktop\\22\\langgraph\\venv\\lib\\site-packages (from pydantic<3.0.0,>=2.7.4->langchain<1.0.0,>=0.3.26->langchain-community) (0.7.0)\n",
      "Requirement already satisfied: pydantic-core==2.33.2 in c:\\users\\aijul\\desktop\\22\\langgraph\\venv\\lib\\site-packages (from pydantic<3.0.0,>=2.7.4->langchain<1.0.0,>=0.3.26->langchain-community) (2.33.2)\n",
      "Requirement already satisfied: typing-inspection>=0.4.0 in c:\\users\\aijul\\desktop\\22\\langgraph\\venv\\lib\\site-packages (from pydantic<3.0.0,>=2.7.4->langchain<1.0.0,>=0.3.26->langchain-community) (0.4.1)\n",
      "Requirement already satisfied: python-dotenv>=0.21.0 in c:\\users\\aijul\\desktop\\22\\langgraph\\venv\\lib\\site-packages (from pydantic-settings<3.0.0,>=2.4.0->langchain-community) (1.1.1)\n",
      "Requirement already satisfied: charset_normalizer<4,>=2 in c:\\users\\aijul\\desktop\\22\\langgraph\\venv\\lib\\site-packages (from requests<3,>=2->langchain-community) (3.4.2)\n",
      "Requirement already satisfied: idna<4,>=2.5 in c:\\users\\aijul\\desktop\\22\\langgraph\\venv\\lib\\site-packages (from requests<3,>=2->langchain-community) (3.10)\n",
      "Requirement already satisfied: urllib3<3,>=1.21.1 in c:\\users\\aijul\\desktop\\22\\langgraph\\venv\\lib\\site-packages (from requests<3,>=2->langchain-community) (2.5.0)\n",
      "Requirement already satisfied: certifi>=2017.4.17 in c:\\users\\aijul\\desktop\\22\\langgraph\\venv\\lib\\site-packages (from requests<3,>=2->langchain-community) (2025.6.15)\n",
      "Collecting greenlet>=1 (from SQLAlchemy<3,>=1.4->langchain-community)\n",
      "  Downloading greenlet-3.2.3-cp312-cp312-win_amd64.whl.metadata (4.2 kB)\n",
      "Collecting mypy-extensions>=0.3.0 (from typing-inspect<1,>=0.4.0->dataclasses-json<0.7,>=0.5.7->langchain-community)\n",
      "  Using cached mypy_extensions-1.1.0-py3-none-any.whl.metadata (1.1 kB)\n",
      "Requirement already satisfied: httpx<1,>=0.23.0 in c:\\users\\aijul\\desktop\\22\\langgraph\\venv\\lib\\site-packages (from langsmith>=0.1.125->langchain-community) (0.28.1)\n",
      "Requirement already satisfied: orjson<4.0.0,>=3.9.14 in c:\\users\\aijul\\desktop\\22\\langgraph\\venv\\lib\\site-packages (from langsmith>=0.1.125->langchain-community) (3.10.18)\n",
      "Requirement already satisfied: requests-toolbelt<2.0.0,>=1.0.0 in c:\\users\\aijul\\desktop\\22\\langgraph\\venv\\lib\\site-packages (from langsmith>=0.1.125->langchain-community) (1.0.0)\n",
      "Requirement already satisfied: zstandard<0.24.0,>=0.23.0 in c:\\users\\aijul\\desktop\\22\\langgraph\\venv\\lib\\site-packages (from langsmith>=0.1.125->langchain-community) (0.23.0)\n",
      "Requirement already satisfied: anyio in c:\\users\\aijul\\desktop\\22\\langgraph\\venv\\lib\\site-packages (from httpx<1,>=0.23.0->langsmith>=0.1.125->langchain-community) (4.9.0)\n",
      "Requirement already satisfied: httpcore==1.* in c:\\users\\aijul\\desktop\\22\\langgraph\\venv\\lib\\site-packages (from httpx<1,>=0.23.0->langsmith>=0.1.125->langchain-community) (1.0.9)\n",
      "Requirement already satisfied: h11>=0.16 in c:\\users\\aijul\\desktop\\22\\langgraph\\venv\\lib\\site-packages (from httpcore==1.*->httpx<1,>=0.23.0->langsmith>=0.1.125->langchain-community) (0.16.0)\n",
      "Requirement already satisfied: sniffio>=1.1 in c:\\users\\aijul\\desktop\\22\\langgraph\\venv\\lib\\site-packages (from anyio->httpx<1,>=0.23.0->langsmith>=0.1.125->langchain-community) (1.3.1)\n",
      "Downloading langchain_community-0.3.27-py3-none-any.whl (2.5 MB)\n",
      "   ---------------------------------------- 0.0/2.5 MB ? eta -:--:--\n",
      "   ---------------------------------------- 0.0/2.5 MB ? eta -:--:--\n",
      "   ---- ----------------------------------- 0.3/2.5 MB ? eta -:--:--\n",
      "   -------- ------------------------------- 0.5/2.5 MB 885.6 kB/s eta 0:00:03\n",
      "   -------- ------------------------------- 0.5/2.5 MB 885.6 kB/s eta 0:00:03\n",
      "   ------------ --------------------------- 0.8/2.5 MB 860.9 kB/s eta 0:00:03\n",
      "   ------------ --------------------------- 0.8/2.5 MB 860.9 kB/s eta 0:00:03\n",
      "   ------------ --------------------------- 0.8/2.5 MB 860.9 kB/s eta 0:00:03\n",
      "   ---------------- ----------------------- 1.0/2.5 MB 653.7 kB/s eta 0:00:03\n",
      "   -------------------- ------------------- 1.3/2.5 MB 699.0 kB/s eta 0:00:02\n",
      "   -------------------- ------------------- 1.3/2.5 MB 699.0 kB/s eta 0:00:02\n",
      "   ------------------------ --------------- 1.6/2.5 MB 717.0 kB/s eta 0:00:02\n",
      "   ----------------------------- ---------- 1.8/2.5 MB 745.8 kB/s eta 0:00:01\n",
      "   --------------------------------- ------ 2.1/2.5 MB 758.0 kB/s eta 0:00:01\n",
      "   --------------------------------- ------ 2.1/2.5 MB 758.0 kB/s eta 0:00:01\n",
      "   ------------------------------------- -- 2.4/2.5 MB 771.6 kB/s eta 0:00:01\n",
      "   ---------------------------------------- 2.5/2.5 MB 776.5 kB/s eta 0:00:00\n",
      "Downloading aiohttp-3.12.13-cp312-cp312-win_amd64.whl (447 kB)\n",
      "Using cached dataclasses_json-0.6.7-py3-none-any.whl (28 kB)\n",
      "Downloading httpx_sse-0.4.1-py3-none-any.whl (8.1 kB)\n",
      "Using cached langchain-0.3.26-py3-none-any.whl (1.0 MB)\n",
      "Using cached langchain_text_splitters-0.3.8-py3-none-any.whl (32 kB)\n",
      "Using cached marshmallow-3.26.1-py3-none-any.whl (50 kB)\n",
      "Downloading multidict-6.6.3-cp312-cp312-win_amd64.whl (45 kB)\n",
      "Downloading pydantic_settings-2.10.1-py3-none-any.whl (45 kB)\n",
      "Downloading sqlalchemy-2.0.41-cp312-cp312-win_amd64.whl (2.1 MB)\n",
      "   ---------------------------------------- 0.0/2.1 MB ? eta -:--:--\n",
      "   ---------------------------------------- 0.0/2.1 MB ? eta -:--:--\n",
      "   ---- ----------------------------------- 0.3/2.1 MB ? eta -:--:--\n",
      "   ---- ----------------------------------- 0.3/2.1 MB ? eta -:--:--\n",
      "   --------- ------------------------------ 0.5/2.1 MB 730.2 kB/s eta 0:00:03\n",
      "   -------------- ------------------------- 0.8/2.1 MB 819.2 kB/s eta 0:00:02\n",
      "   -------------- ------------------------- 0.8/2.1 MB 819.2 kB/s eta 0:00:02\n",
      "   -------------- ------------------------- 0.8/2.1 MB 819.2 kB/s eta 0:00:02\n",
      "   ------------------- -------------------- 1.0/2.1 MB 621.7 kB/s eta 0:00:02\n",
      "   ------------------- -------------------- 1.0/2.1 MB 621.7 kB/s eta 0:00:02\n",
      "   ------------------------ --------------- 1.3/2.1 MB 671.3 kB/s eta 0:00:02\n",
      "   ----------------------------- ---------- 1.6/2.1 MB 705.1 kB/s eta 0:00:01\n",
      "   ----------------------------- ---------- 1.6/2.1 MB 705.1 kB/s eta 0:00:01\n",
      "   ---------------------------------- ----- 1.8/2.1 MB 724.2 kB/s eta 0:00:01\n",
      "   ---------------------------------------- 2.1/2.1 MB 749.1 kB/s eta 0:00:00\n",
      "Using cached typing_inspect-0.9.0-py3-none-any.whl (8.8 kB)\n",
      "Downloading yarl-1.20.1-cp312-cp312-win_amd64.whl (86 kB)\n",
      "Using cached aiohappyeyeballs-2.6.1-py3-none-any.whl (15 kB)\n",
      "Using cached aiosignal-1.3.2-py2.py3-none-any.whl (7.6 kB)\n",
      "Using cached attrs-25.3.0-py3-none-any.whl (63 kB)\n",
      "Downloading frozenlist-1.7.0-cp312-cp312-win_amd64.whl (43 kB)\n",
      "Downloading greenlet-3.2.3-cp312-cp312-win_amd64.whl (297 kB)\n",
      "Using cached mypy_extensions-1.1.0-py3-none-any.whl (5.0 kB)\n",
      "Downloading numpy-2.3.1-cp312-cp312-win_amd64.whl (12.7 MB)\n",
      "   ---------------------------------------- 0.0/12.7 MB ? eta -:--:--\n",
      "   ---------------------------------------- 0.0/12.7 MB ? eta -:--:--\n",
      "   ---------------------------------------- 0.0/12.7 MB ? eta -:--:--\n",
      "    --------------------------------------- 0.3/12.7 MB ? eta -:--:--\n",
      "   - -------------------------------------- 0.5/12.7 MB 728.2 kB/s eta 0:00:17\n",
      "   - -------------------------------------- 0.5/12.7 MB 728.2 kB/s eta 0:00:17\n",
      "   -- ------------------------------------- 0.8/12.7 MB 798.0 kB/s eta 0:00:15\n",
      "   --- ------------------------------------ 1.0/12.7 MB 798.4 kB/s eta 0:00:15\n",
      "   --- ------------------------------------ 1.0/12.7 MB 798.4 kB/s eta 0:00:15\n",
      "   ---- ----------------------------------- 1.3/12.7 MB 817.9 kB/s eta 0:00:14\n",
      "   ---- ----------------------------------- 1.6/12.7 MB 838.6 kB/s eta 0:00:14\n",
      "   ----- ---------------------------------- 1.8/12.7 MB 838.9 kB/s eta 0:00:13\n",
      "   ----- ---------------------------------- 1.8/12.7 MB 838.9 kB/s eta 0:00:13\n",
      "   ------ --------------------------------- 2.1/12.7 MB 844.8 kB/s eta 0:00:13\n",
      "   ------- -------------------------------- 2.4/12.7 MB 849.4 kB/s eta 0:00:13\n",
      "   ------- -------------------------------- 2.4/12.7 MB 849.4 kB/s eta 0:00:13\n",
      "   ------- -------------------------------- 2.4/12.7 MB 849.4 kB/s eta 0:00:13\n",
      "   -------- ------------------------------- 2.6/12.7 MB 778.1 kB/s eta 0:00:13\n",
      "   --------- ------------------------------ 2.9/12.7 MB 776.7 kB/s eta 0:00:13\n",
      "   --------- ------------------------------ 2.9/12.7 MB 776.7 kB/s eta 0:00:13\n",
      "   --------- ------------------------------ 3.1/12.7 MB 775.4 kB/s eta 0:00:13\n",
      "   ---------- ----------------------------- 3.4/12.7 MB 777.3 kB/s eta 0:00:12\n",
      "   ---------- ----------------------------- 3.4/12.7 MB 777.3 kB/s eta 0:00:12\n",
      "   ----------- ---------------------------- 3.7/12.7 MB 781.6 kB/s eta 0:00:12\n",
      "   ------------ --------------------------- 3.9/12.7 MB 790.8 kB/s eta 0:00:12\n",
      "   ------------ --------------------------- 3.9/12.7 MB 790.8 kB/s eta 0:00:12\n",
      "   ------------- -------------------------- 4.2/12.7 MB 788.8 kB/s eta 0:00:11\n",
      "   ------------- -------------------------- 4.5/12.7 MB 796.5 kB/s eta 0:00:11\n",
      "   ------------- -------------------------- 4.5/12.7 MB 796.5 kB/s eta 0:00:11\n",
      "   -------------- ------------------------- 4.7/12.7 MB 801.1 kB/s eta 0:00:11\n",
      "   --------------- ------------------------ 5.0/12.7 MB 792.6 kB/s eta 0:00:10\n",
      "   --------------- ------------------------ 5.0/12.7 MB 792.6 kB/s eta 0:00:10\n",
      "   ---------------- ----------------------- 5.2/12.7 MB 792.9 kB/s eta 0:00:10\n",
      "   ----------------- ---------------------- 5.5/12.7 MB 795.1 kB/s eta 0:00:10\n",
      "   ----------------- ---------------------- 5.5/12.7 MB 795.1 kB/s eta 0:00:10\n",
      "   ------------------ --------------------- 5.8/12.7 MB 798.9 kB/s eta 0:00:09\n",
      "   ------------------ --------------------- 6.0/12.7 MB 804.1 kB/s eta 0:00:09\n",
      "   ------------------- -------------------- 6.3/12.7 MB 807.2 kB/s eta 0:00:08\n",
      "   ------------------- -------------------- 6.3/12.7 MB 807.2 kB/s eta 0:00:08\n",
      "   -------------------- ------------------- 6.6/12.7 MB 808.5 kB/s eta 0:00:08\n",
      "   --------------------- ------------------ 6.8/12.7 MB 811.3 kB/s eta 0:00:08\n",
      "   --------------------- ------------------ 6.8/12.7 MB 811.3 kB/s eta 0:00:08\n",
      "   ---------------------- ----------------- 7.1/12.7 MB 813.8 kB/s eta 0:00:07\n",
      "   ----------------------- ---------------- 7.3/12.7 MB 814.7 kB/s eta 0:00:07\n",
      "   ----------------------- ---------------- 7.3/12.7 MB 814.7 kB/s eta 0:00:07\n",
      "   ----------------------- ---------------- 7.6/12.7 MB 811.3 kB/s eta 0:00:07\n",
      "   ----------------------- ---------------- 7.6/12.7 MB 811.3 kB/s eta 0:00:07\n",
      "   ----------------------- ---------------- 7.6/12.7 MB 811.3 kB/s eta 0:00:07\n",
      "   ------------------------ --------------- 7.9/12.7 MB 782.2 kB/s eta 0:00:07\n",
      "   ------------------------- -------------- 8.1/12.7 MB 783.9 kB/s eta 0:00:06\n",
      "   ------------------------- -------------- 8.1/12.7 MB 783.9 kB/s eta 0:00:06\n",
      "   -------------------------- ------------- 8.4/12.7 MB 786.8 kB/s eta 0:00:06\n",
      "   --------------------------- ------------ 8.7/12.7 MB 789.5 kB/s eta 0:00:06\n",
      "   --------------------------- ------------ 8.7/12.7 MB 789.5 kB/s eta 0:00:06\n",
      "   --------------------------- ------------ 8.9/12.7 MB 790.9 kB/s eta 0:00:05\n",
      "   ---------------------------- ----------- 9.2/12.7 MB 789.0 kB/s eta 0:00:05\n",
      "   ---------------------------- ----------- 9.2/12.7 MB 789.0 kB/s eta 0:00:05\n",
      "   ----------------------------- ---------- 9.4/12.7 MB 789.2 kB/s eta 0:00:05\n",
      "   ------------------------------ --------- 9.7/12.7 MB 790.5 kB/s eta 0:00:04\n",
      "   ------------------------------ --------- 9.7/12.7 MB 790.5 kB/s eta 0:00:04\n",
      "   ------------------------------- -------- 10.0/12.7 MB 786.8 kB/s eta 0:00:04\n",
      "   -------------------------------- ------- 10.2/12.7 MB 790.0 kB/s eta 0:00:04\n",
      "   -------------------------------- ------- 10.2/12.7 MB 790.0 kB/s eta 0:00:04\n",
      "   -------------------------------- ------- 10.5/12.7 MB 792.1 kB/s eta 0:00:03\n",
      "   --------------------------------- ------ 10.7/12.7 MB 793.2 kB/s eta 0:00:03\n",
      "   --------------------------------- ------ 10.7/12.7 MB 793.2 kB/s eta 0:00:03\n",
      "   ---------------------------------- ----- 11.0/12.7 MB 795.2 kB/s eta 0:00:03\n",
      "   ---------------------------------- ----- 11.0/12.7 MB 795.2 kB/s eta 0:00:03\n",
      "   ----------------------------------- ---- 11.3/12.7 MB 776.9 kB/s eta 0:00:02\n",
      "   ----------------------------------- ---- 11.3/12.7 MB 776.9 kB/s eta 0:00:02\n",
      "   ------------------------------------ --- 11.5/12.7 MB 779.1 kB/s eta 0:00:02\n",
      "   ------------------------------------- -- 11.8/12.7 MB 781.1 kB/s eta 0:00:02\n",
      "   ------------------------------------- -- 11.8/12.7 MB 781.1 kB/s eta 0:00:02\n",
      "   ------------------------------------- -- 12.1/12.7 MB 775.1 kB/s eta 0:00:01\n",
      "   ------------------------------------- -- 12.1/12.7 MB 775.1 kB/s eta 0:00:01\n",
      "   -------------------------------------- - 12.3/12.7 MB 771.0 kB/s eta 0:00:01\n",
      "   -------------------------------------- - 12.3/12.7 MB 771.0 kB/s eta 0:00:01\n",
      "   ---------------------------------------  12.6/12.7 MB 772.3 kB/s eta 0:00:01\n",
      "   ---------------------------------------- 12.7/12.7 MB 772.0 kB/s eta 0:00:00\n",
      "Downloading propcache-0.3.2-cp312-cp312-win_amd64.whl (41 kB)\n",
      "Installing collected packages: propcache, numpy, mypy-extensions, multidict, marshmallow, httpx-sse, greenlet, frozenlist, attrs, aiohappyeyeballs, yarl, typing-inspect, SQLAlchemy, aiosignal, pydantic-settings, dataclasses-json, aiohttp, langchain-text-splitters, langchain, langchain-community\n",
      "\n",
      "   -- -------------------------------------  1/20 [numpy]\n",
      "   -- -------------------------------------  1/20 [numpy]\n",
      "   -- -------------------------------------  1/20 [numpy]\n",
      "   -- -------------------------------------  1/20 [numpy]\n",
      "   -- -------------------------------------  1/20 [numpy]\n",
      "   -- -------------------------------------  1/20 [numpy]\n",
      "   -- -------------------------------------  1/20 [numpy]\n",
      "   -- -------------------------------------  1/20 [numpy]\n",
      "   -- -------------------------------------  1/20 [numpy]\n",
      "   -- -------------------------------------  1/20 [numpy]\n",
      "   -- -------------------------------------  1/20 [numpy]\n",
      "   -- -------------------------------------  1/20 [numpy]\n",
      "   -- -------------------------------------  1/20 [numpy]\n",
      "   -- -------------------------------------  1/20 [numpy]\n",
      "   -- -------------------------------------  1/20 [numpy]\n",
      "   -- -------------------------------------  1/20 [numpy]\n",
      "   -- -------------------------------------  1/20 [numpy]\n",
      "   -- -------------------------------------  1/20 [numpy]\n",
      "   -- -------------------------------------  1/20 [numpy]\n",
      "   -- -------------------------------------  1/20 [numpy]\n",
      "   -- -------------------------------------  1/20 [numpy]\n",
      "   -- -------------------------------------  1/20 [numpy]\n",
      "   -- -------------------------------------  1/20 [numpy]\n",
      "   -- -------------------------------------  1/20 [numpy]\n",
      "   -- -------------------------------------  1/20 [numpy]\n",
      "   -- -------------------------------------  1/20 [numpy]\n",
      "   -- -------------------------------------  1/20 [numpy]\n",
      "   -- -------------------------------------  1/20 [numpy]\n",
      "   -- -------------------------------------  1/20 [numpy]\n",
      "   -- -------------------------------------  1/20 [numpy]\n",
      "   -- -------------------------------------  1/20 [numpy]\n",
      "   -- -------------------------------------  1/20 [numpy]\n",
      "   -- -------------------------------------  1/20 [numpy]\n",
      "   -- -------------------------------------  1/20 [numpy]\n",
      "   -- -------------------------------------  1/20 [numpy]\n",
      "   -- -------------------------------------  1/20 [numpy]\n",
      "   -- -------------------------------------  1/20 [numpy]\n",
      "   -- -------------------------------------  1/20 [numpy]\n",
      "   -- -------------------------------------  1/20 [numpy]\n",
      "   ---- -----------------------------------  2/20 [mypy-extensions]\n",
      "   -------- -------------------------------  4/20 [marshmallow]\n",
      "   ------------ ---------------------------  6/20 [greenlet]\n",
      "   ------------ ---------------------------  6/20 [greenlet]\n",
      "   ---------------- -----------------------  8/20 [attrs]\n",
      "   ---------------- -----------------------  8/20 [attrs]\n",
      "   -------------------- ------------------- 10/20 [yarl]\n",
      "   ---------------------- ----------------- 11/20 [typing-inspect]\n",
      "   ------------------------ --------------- 12/20 [SQLAlchemy]\n",
      "   ------------------------ --------------- 12/20 [SQLAlchemy]\n",
      "   ------------------------ --------------- 12/20 [SQLAlchemy]\n",
      "   ------------------------ --------------- 12/20 [SQLAlchemy]\n",
      "   ------------------------ --------------- 12/20 [SQLAlchemy]\n",
      "   ------------------------ --------------- 12/20 [SQLAlchemy]\n",
      "   ------------------------ --------------- 12/20 [SQLAlchemy]\n",
      "   ------------------------ --------------- 12/20 [SQLAlchemy]\n",
      "   ------------------------ --------------- 12/20 [SQLAlchemy]\n",
      "   ------------------------ --------------- 12/20 [SQLAlchemy]\n",
      "   ------------------------ --------------- 12/20 [SQLAlchemy]\n",
      "   ------------------------ --------------- 12/20 [SQLAlchemy]\n",
      "   ------------------------ --------------- 12/20 [SQLAlchemy]\n",
      "   ------------------------ --------------- 12/20 [SQLAlchemy]\n",
      "   ------------------------ --------------- 12/20 [SQLAlchemy]\n",
      "   ------------------------ --------------- 12/20 [SQLAlchemy]\n",
      "   ------------------------ --------------- 12/20 [SQLAlchemy]\n",
      "   ---------------------------- ----------- 14/20 [pydantic-settings]\n",
      "   -------------------------------- ------- 16/20 [aiohttp]\n",
      "   -------------------------------- ------- 16/20 [aiohttp]\n",
      "   -------------------------------- ------- 16/20 [aiohttp]\n",
      "   ---------------------------------- ----- 17/20 [langchain-text-splitters]\n",
      "   ------------------------------------ --- 18/20 [langchain]\n",
      "   ------------------------------------ --- 18/20 [langchain]\n",
      "   ------------------------------------ --- 18/20 [langchain]\n",
      "   ------------------------------------ --- 18/20 [langchain]\n",
      "   ------------------------------------ --- 18/20 [langchain]\n",
      "   ------------------------------------ --- 18/20 [langchain]\n",
      "   ------------------------------------ --- 18/20 [langchain]\n",
      "   ------------------------------------ --- 18/20 [langchain]\n",
      "   ------------------------------------ --- 18/20 [langchain]\n",
      "   ------------------------------------ --- 18/20 [langchain]\n",
      "   ------------------------------------ --- 18/20 [langchain]\n",
      "   ------------------------------------ --- 18/20 [langchain]\n",
      "   ------------------------------------ --- 18/20 [langchain]\n",
      "   ------------------------------------ --- 18/20 [langchain]\n",
      "   ------------------------------------ --- 18/20 [langchain]\n",
      "   ------------------------------------ --- 18/20 [langchain]\n",
      "   ------------------------------------ --- 18/20 [langchain]\n",
      "   ------------------------------------ --- 18/20 [langchain]\n",
      "   ------------------------------------ --- 18/20 [langchain]\n",
      "   ------------------------------------ --- 18/20 [langchain]\n",
      "   ------------------------------------ --- 18/20 [langchain]\n",
      "   ------------------------------------ --- 18/20 [langchain]\n",
      "   ------------------------------------ --- 18/20 [langchain]\n",
      "   ------------------------------------ --- 18/20 [langchain]\n",
      "   ------------------------------------ --- 18/20 [langchain]\n",
      "   ------------------------------------ --- 18/20 [langchain]\n",
      "   ------------------------------------ --- 18/20 [langchain]\n",
      "   ------------------------------------ --- 18/20 [langchain]\n",
      "   ------------------------------------ --- 18/20 [langchain]\n",
      "   ------------------------------------ --- 18/20 [langchain]\n",
      "   ------------------------------------ --- 18/20 [langchain]\n",
      "   ------------------------------------ --- 18/20 [langchain]\n",
      "   ------------------------------------ --- 18/20 [langchain]\n",
      "   ------------------------------------ --- 18/20 [langchain]\n",
      "   ------------------------------------ --- 18/20 [langchain]\n",
      "   ------------------------------------ --- 18/20 [langchain]\n",
      "   -------------------------------------- - 19/20 [langchain-community]\n",
      "   -------------------------------------- - 19/20 [langchain-community]\n",
      "   -------------------------------------- - 19/20 [langchain-community]\n",
      "   -------------------------------------- - 19/20 [langchain-community]\n",
      "   -------------------------------------- - 19/20 [langchain-community]\n",
      "   -------------------------------------- - 19/20 [langchain-community]\n",
      "   -------------------------------------- - 19/20 [langchain-community]\n",
      "   -------------------------------------- - 19/20 [langchain-community]\n",
      "   -------------------------------------- - 19/20 [langchain-community]\n",
      "   -------------------------------------- - 19/20 [langchain-community]\n",
      "   -------------------------------------- - 19/20 [langchain-community]\n",
      "   -------------------------------------- - 19/20 [langchain-community]\n",
      "   -------------------------------------- - 19/20 [langchain-community]\n",
      "   -------------------------------------- - 19/20 [langchain-community]\n",
      "   -------------------------------------- - 19/20 [langchain-community]\n",
      "   -------------------------------------- - 19/20 [langchain-community]\n",
      "   -------------------------------------- - 19/20 [langchain-community]\n",
      "   -------------------------------------- - 19/20 [langchain-community]\n",
      "   -------------------------------------- - 19/20 [langchain-community]\n",
      "   -------------------------------------- - 19/20 [langchain-community]\n",
      "   -------------------------------------- - 19/20 [langchain-community]\n",
      "   -------------------------------------- - 19/20 [langchain-community]\n",
      "   -------------------------------------- - 19/20 [langchain-community]\n",
      "   -------------------------------------- - 19/20 [langchain-community]\n",
      "   -------------------------------------- - 19/20 [langchain-community]\n",
      "   -------------------------------------- - 19/20 [langchain-community]\n",
      "   -------------------------------------- - 19/20 [langchain-community]\n",
      "   -------------------------------------- - 19/20 [langchain-community]\n",
      "   -------------------------------------- - 19/20 [langchain-community]\n",
      "   -------------------------------------- - 19/20 [langchain-community]\n",
      "   -------------------------------------- - 19/20 [langchain-community]\n",
      "   -------------------------------------- - 19/20 [langchain-community]\n",
      "   -------------------------------------- - 19/20 [langchain-community]\n",
      "   -------------------------------------- - 19/20 [langchain-community]\n",
      "   -------------------------------------- - 19/20 [langchain-community]\n",
      "   ---------------------------------------- 20/20 [langchain-community]\n",
      "\n",
      "Successfully installed SQLAlchemy-2.0.41 aiohappyeyeballs-2.6.1 aiohttp-3.12.13 aiosignal-1.3.2 attrs-25.3.0 dataclasses-json-0.6.7 frozenlist-1.7.0 greenlet-3.2.3 httpx-sse-0.4.1 langchain-0.3.26 langchain-community-0.3.27 langchain-text-splitters-0.3.8 marshmallow-3.26.1 multidict-6.6.3 mypy-extensions-1.1.0 numpy-2.3.1 propcache-0.3.2 pydantic-settings-2.10.1 typing-inspect-0.9.0 yarl-1.20.1\n"
     ]
    }
   ],
   "source": [
    "!pip install langchain-community"
   ]
  },
  {
   "cell_type": "code",
   "execution_count": 5,
   "id": "ac41608b",
   "metadata": {},
   "outputs": [
    {
     "name": "stdout",
     "output_type": "stream",
     "text": [
      "Collecting arxiv\n",
      "  Downloading arxiv-2.2.0-py3-none-any.whl.metadata (6.3 kB)\n",
      "Collecting feedparser~=6.0.10 (from arxiv)\n",
      "  Downloading feedparser-6.0.11-py3-none-any.whl.metadata (2.4 kB)\n",
      "Requirement already satisfied: requests~=2.32.0 in c:\\users\\aijul\\desktop\\22\\langgraph\\venv\\lib\\site-packages (from arxiv) (2.32.4)\n",
      "Collecting sgmllib3k (from feedparser~=6.0.10->arxiv)\n",
      "  Downloading sgmllib3k-1.0.0.tar.gz (5.8 kB)\n",
      "  Preparing metadata (setup.py): started\n",
      "  Preparing metadata (setup.py): finished with status 'done'\n",
      "Requirement already satisfied: charset_normalizer<4,>=2 in c:\\users\\aijul\\desktop\\22\\langgraph\\venv\\lib\\site-packages (from requests~=2.32.0->arxiv) (3.4.2)\n",
      "Requirement already satisfied: idna<4,>=2.5 in c:\\users\\aijul\\desktop\\22\\langgraph\\venv\\lib\\site-packages (from requests~=2.32.0->arxiv) (3.10)\n",
      "Requirement already satisfied: urllib3<3,>=1.21.1 in c:\\users\\aijul\\desktop\\22\\langgraph\\venv\\lib\\site-packages (from requests~=2.32.0->arxiv) (2.5.0)\n",
      "Requirement already satisfied: certifi>=2017.4.17 in c:\\users\\aijul\\desktop\\22\\langgraph\\venv\\lib\\site-packages (from requests~=2.32.0->arxiv) (2025.6.15)\n",
      "Downloading arxiv-2.2.0-py3-none-any.whl (11 kB)\n",
      "Downloading feedparser-6.0.11-py3-none-any.whl (81 kB)\n",
      "Building wheels for collected packages: sgmllib3k\n",
      "  Building wheel for sgmllib3k (setup.py): started\n",
      "  Building wheel for sgmllib3k (setup.py): finished with status 'done'\n",
      "  Created wheel for sgmllib3k: filename=sgmllib3k-1.0.0-py3-none-any.whl size=6105 sha256=9565baff07269c84e628844b6df1ff36c0e6b4d4ccacfb2c478ecd9f2d85f9e3\n",
      "  Stored in directory: c:\\users\\aijul\\appdata\\local\\pip\\cache\\wheels\\03\\f5\\1a\\23761066dac1d0e8e683e5fdb27e12de53209d05a4a37e6246\n",
      "Successfully built sgmllib3k\n",
      "Installing collected packages: sgmllib3k, feedparser, arxiv\n",
      "\n",
      "   ---------------------------------------- 3/3 [arxiv]\n",
      "\n",
      "Successfully installed arxiv-2.2.0 feedparser-6.0.11 sgmllib3k-1.0.0\n"
     ]
    },
    {
     "name": "stderr",
     "output_type": "stream",
     "text": [
      "  DEPRECATION: Building 'sgmllib3k' using the legacy setup.py bdist_wheel mechanism, which will be removed in a future version. pip 25.3 will enforce this behaviour change. A possible replacement is to use the standardized build interface by setting the `--use-pep517` option, (possibly combined with `--no-build-isolation`), or adding a `pyproject.toml` file to the source tree of 'sgmllib3k'. Discussion can be found at https://github.com/pypa/pip/issues/6334\n"
     ]
    }
   ],
   "source": [
    "!pip install arxiv"
   ]
  },
  {
   "cell_type": "code",
   "execution_count": 6,
   "id": "9dd6fa29",
   "metadata": {},
   "outputs": [
    {
     "name": "stdout",
     "output_type": "stream",
     "text": [
      "Collecting wikipedia\n",
      "  Downloading wikipedia-1.4.0.tar.gz (27 kB)\n",
      "  Preparing metadata (setup.py): started\n",
      "  Preparing metadata (setup.py): finished with status 'done'\n",
      "Collecting beautifulsoup4 (from wikipedia)\n",
      "  Downloading beautifulsoup4-4.13.4-py3-none-any.whl.metadata (3.8 kB)\n",
      "Requirement already satisfied: requests<3.0.0,>=2.0.0 in c:\\users\\aijul\\desktop\\22\\langgraph\\venv\\lib\\site-packages (from wikipedia) (2.32.4)\n",
      "Requirement already satisfied: charset_normalizer<4,>=2 in c:\\users\\aijul\\desktop\\22\\langgraph\\venv\\lib\\site-packages (from requests<3.0.0,>=2.0.0->wikipedia) (3.4.2)\n",
      "Requirement already satisfied: idna<4,>=2.5 in c:\\users\\aijul\\desktop\\22\\langgraph\\venv\\lib\\site-packages (from requests<3.0.0,>=2.0.0->wikipedia) (3.10)\n",
      "Requirement already satisfied: urllib3<3,>=1.21.1 in c:\\users\\aijul\\desktop\\22\\langgraph\\venv\\lib\\site-packages (from requests<3.0.0,>=2.0.0->wikipedia) (2.5.0)\n",
      "Requirement already satisfied: certifi>=2017.4.17 in c:\\users\\aijul\\desktop\\22\\langgraph\\venv\\lib\\site-packages (from requests<3.0.0,>=2.0.0->wikipedia) (2025.6.15)\n",
      "Collecting soupsieve>1.2 (from beautifulsoup4->wikipedia)\n",
      "  Downloading soupsieve-2.7-py3-none-any.whl.metadata (4.6 kB)\n",
      "Requirement already satisfied: typing-extensions>=4.0.0 in c:\\users\\aijul\\desktop\\22\\langgraph\\venv\\lib\\site-packages (from beautifulsoup4->wikipedia) (4.14.0)\n",
      "Downloading beautifulsoup4-4.13.4-py3-none-any.whl (187 kB)\n",
      "Downloading soupsieve-2.7-py3-none-any.whl (36 kB)\n",
      "Building wheels for collected packages: wikipedia\n",
      "  Building wheel for wikipedia (setup.py): started\n",
      "  Building wheel for wikipedia (setup.py): finished with status 'done'\n",
      "  Created wheel for wikipedia: filename=wikipedia-1.4.0-py3-none-any.whl size=11785 sha256=b22e25730c00bd351d321d076118b7f6870a165c25a6e8ddd19d5cb34ea791b4\n",
      "  Stored in directory: c:\\users\\aijul\\appdata\\local\\pip\\cache\\wheels\\63\\47\\7c\\a9688349aa74d228ce0a9023229c6c0ac52ca2a40fe87679b8\n",
      "Successfully built wikipedia\n",
      "Installing collected packages: soupsieve, beautifulsoup4, wikipedia\n",
      "\n",
      "   ------------- -------------------------- 1/3 [beautifulsoup4]\n",
      "   ---------------------------------------- 3/3 [wikipedia]\n",
      "\n",
      "Successfully installed beautifulsoup4-4.13.4 soupsieve-2.7 wikipedia-1.4.0\n"
     ]
    },
    {
     "name": "stderr",
     "output_type": "stream",
     "text": [
      "  DEPRECATION: Building 'wikipedia' using the legacy setup.py bdist_wheel mechanism, which will be removed in a future version. pip 25.3 will enforce this behaviour change. A possible replacement is to use the standardized build interface by setting the `--use-pep517` option, (possibly combined with `--no-build-isolation`), or adding a `pyproject.toml` file to the source tree of 'wikipedia'. Discussion can be found at https://github.com/pypa/pip/issues/6334\n"
     ]
    }
   ],
   "source": [
    "!pip install wikipedia"
   ]
  },
  {
   "cell_type": "code",
   "execution_count": null,
   "id": "026f56ca",
   "metadata": {},
   "outputs": [],
   "source": []
  }
 ],
 "metadata": {
  "kernelspec": {
   "display_name": "Python 3",
   "language": "python",
   "name": "python3"
  },
  "language_info": {
   "codemirror_mode": {
    "name": "ipython",
    "version": 3
   },
   "file_extension": ".py",
   "mimetype": "text/x-python",
   "name": "python",
   "nbconvert_exporter": "python",
   "pygments_lexer": "ipython3",
   "version": "3.12.0"
  }
 },
 "nbformat": 4,
 "nbformat_minor": 5
}
