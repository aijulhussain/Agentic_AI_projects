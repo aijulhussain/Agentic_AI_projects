{
 "cells": [
  {
   "cell_type": "markdown",
   "id": "ea18ef07",
   "metadata": {},
   "source": []
  },
  {
   "cell_type": "code",
   "execution_count": 46,
   "id": "d0e74439",
   "metadata": {},
   "outputs": [],
   "source": [
    "from langchain_community.tools import ArxivQueryRun, WikipediaQueryRun\n",
    "from langchain_community.utilities import WikipediaAPIWrapper, ArxivAPIWrapper"
   ]
  },
  {
   "cell_type": "code",
   "execution_count": 47,
   "id": "9aeb3820",
   "metadata": {},
   "outputs": [
    {
     "name": "stdout",
     "output_type": "stream",
     "text": [
      "arxiv\n"
     ]
    }
   ],
   "source": [
    "api_wrapper_arxiv=ArxivAPIWrapper(top_k_results=5, doc_content_chars_max=500)\n",
    "arxiv=ArxivQueryRun(api_wrapper=api_wrapper_arxiv)\n",
    "print(arxiv.name)"
   ]
  },
  {
   "cell_type": "code",
   "execution_count": 48,
   "id": "10e62721",
   "metadata": {},
   "outputs": [
    {
     "data": {
      "text/plain": [
       "'Published: 2017-09-19\\nTitle: Exploring Human-like Attention Supervision in Visual Question Answering\\nAuthors: Tingting Qiao, Jianfeng Dong, Duanqing Xu\\nSummary: Attention mechanisms have been widely applied in the Visual Question\\nAnswering (VQA) task, as they help to focus on the area-of-interest of both\\nvisual and textual information. To answer the questions correctly, the model\\nneeds to selectively target different areas of an image, which suggests that an\\nattention-based model may benefit fro'"
      ]
     },
     "execution_count": 48,
     "metadata": {},
     "output_type": "execute_result"
    }
   ],
   "source": [
    "arxiv.invoke(\"Attention all we need\")"
   ]
  },
  {
   "cell_type": "code",
   "execution_count": 49,
   "id": "75b6df93",
   "metadata": {},
   "outputs": [
    {
     "name": "stdout",
     "output_type": "stream",
     "text": [
      "wikipedia\n"
     ]
    }
   ],
   "source": [
    "api_wrapper_wiki=WikipediaAPIWrapper(top_k_results=5, doc_content_chars_max=500)\n",
    "wiki=WikipediaQueryRun(api_wrapper=api_wrapper_wiki)\n",
    "print(wiki.name)"
   ]
  },
  {
   "cell_type": "code",
   "execution_count": 50,
   "id": "f717ef73",
   "metadata": {},
   "outputs": [
    {
     "data": {
      "text/plain": [
       "'Page: Meghalaya\\nSummary: Meghalaya (; lit. \"the abode of clouds\") is a state in northeast India. Its capital is Shillong. Meghalaya was formed on 21 January 1972 by carving out two districts from the Assam: the United Khasi Hills and Jaintia Hills and the Garo Hills. The estimated population of Meghalaya in 2014 was 3,211,474. Meghalaya covers an area of approximately 22,429 square kilometres, with a length-to-breadth ratio of about 3:1. The state is bound to the south by the Bangladeshi divisio'"
      ]
     },
     "execution_count": 50,
     "metadata": {},
     "output_type": "execute_result"
    }
   ],
   "source": [
    "wiki.invoke(\"Where is meghalaya\")"
   ]
  },
  {
   "cell_type": "code",
   "execution_count": 51,
   "id": "bb49b059",
   "metadata": {},
   "outputs": [],
   "source": [
    "from dotenv import load_dotenv\n",
    "import os\n",
    "load_dotenv()\n",
    "\n",
    "os.environ[\"TAVILY_API_KEY\"]=os.getenv(\"TAVILY_API_KEY\")\n",
    "os.environ[\"GROQ_API_KEY\"]=os.getenv(\"GROQ_API_KEY\")"
   ]
  },
  {
   "cell_type": "code",
   "execution_count": 52,
   "id": "50ec3802",
   "metadata": {},
   "outputs": [],
   "source": [
    "from langchain_community.tools.tavily_search import TavilySearchResults\n",
    "tavily = TavilySearchResults()\n"
   ]
  },
  {
   "cell_type": "code",
   "execution_count": 53,
   "id": "346bc22f",
   "metadata": {},
   "outputs": [
    {
     "data": {
      "text/plain": [
       "[{'title': 'Assam News: Latest Updates & Breaking Headlines - India Today',\n",
       "  'url': 'https://www.indiatoday.in/india/assam',\n",
       "  'content': '### Download App\\n\\nDownload app\\n\\n# Assam News\\n\\n#### India News\\n\\n## Puri Rath Yatra stampede: 2 officials transferred after 3 killed, 50 injured\\n\\nPuri stampede: The incident took place near Saradhabali, in front of the temple, where Lord Jagannath was seated on the chariot.\\n\\nEmergency services responded quickly and the injured were taken to Puri District Hospital. Six of them are in critical condition. (PTI Photo)\\n\\n#### Assam News [...] A 4.2 magnitude earthquake hit Assam on Sunday morning, no injuries or damage were reported. The exact location of the earthquake epicentre is around 105 km north of Guwahati.\\n\\nEarthquake of 4.6 magnitude strikes Udalguri, shakes parts of Assam and Bhutan\\n\\n#### Assam News\\n\\n## Assam scraps 2-hour namaz breaks on Fridays, Opposition slams move\\n\\nAssam Chief Minister Himanta Biswa Sarma has scrapped the two-hour namaz break on Fridays in the Assam Legislative Assembly.\\n\\n#### Assam News [...] #### Assam News\\n\\n## Assam mine tragedy: Rescue ops continue for 4th day, efforts on to dewater shaft\\n\\nAssam mine tragedy: Multiple agencies, including the Navy and the National Disaster Response Force (NDRF), have joined the rescue operations to save the eight remaining workers inside the illegal rat-hole mine in Dima Hasao.\\n\\nAssam mine tragedy\\n\\n#### India News\\n\\n## Misled by Google Maps, Assam cops end up in Nagaland, thrashed by locals',\n",
       "  'score': 0.70847535},\n",
       " {'title': 'Assam - Latest news, Live Updates, Politics, Events - The Hindu',\n",
       "  'url': 'https://www.thehindu.com/news/national/assam/',\n",
       "  'content': 'Devotees visit the Kamakhya Temple to offer prayers as the doors reopen after the four-day Ambubachi Mela, in Guwahati, Thursday, June 26, 2025. \\n\\n### Kamakhya temple doors open after four days of \\'Ambubachi Mela\\'\\n\\nAssam Chief Minister Himanta Biswa Sarma meets the people from the Rabha community on June 24, 2025.\\n\\n### Joint Assam-Meghalaya hydropower project opposed\\n\\n### Three policemen injured in grenade attack in Assam\\n\\nAssam Chief Minister Himanta Biswa Sarma. File [...] ### ONGC caps Assam gas well blowout after fortnight-long effort\\n\\nAssam CM Himanta Biswa Sarma. File\\n\\n### Congress \\'appeasement\\' of illegal immigrants led to massive encroachment of Satra land: Himanta Biswa Sarma\\n\\nDevotees visit the Kamakhya Temple to offer prayers as the doors reopen after the four-day Ambubachi Mela, in Guwahati, Thursday, June 26, 2025. \\n\\n### Ambubachi Mela: The festival celebrating menstrual hygiene in Assam [...] All suspects entrusted with carrying out blasts in four major locations of Assam, including the one that occurred in Bokakhat last week, have been arrested by police and the grenades meant for the purpose recovered from them, Chief Minister Himanta Biswa Sarma said on Friday (June 27, 2025)..\")\\n\\n### Suspects involved in last week blast CRPF camp held; attacks in three towns foiled: Himanta\\n\\n### New Garcinia species found in Assam, named after botanist’s mother',\n",
       "  'score': 0.69049704},\n",
       " {'title': 'The Assam Tribune: Latest Assam News, Assam News Headlines ...',\n",
       "  'url': 'https://assamtribune.com/',\n",
       "  'content': '## Oxygen masks deployed after Tokyo bound flight dropped 26,000 ft\\n\\nLandslide strands multiple trains in Assam’s Dima Hasao, restoration work underway\\n\\n## Landslide strands multiple trains in Assam’s Dima Hasao, restoration work underway\\n\\nBTC polls: BJP to contest all seven seats in Chirang alone\\n\\n## BTC polls: BJP to contest all seven seats in Chirang alone\\n\\n2-day citizens’ convention in Guwahati to expose alleged misgovernance from July 5',\n",
       "  'score': 0.65887916},\n",
       " {'title': 'Assam News and Updates',\n",
       "  'url': 'https://www.sentinelassam.com/north-east-india-news/assam-news',\n",
       "  'content': 'Logo\\nLogo\\n\\n# Assam News\\n\\n## Assam News\\n\\nHealth crisis caused by a toxic discharge from a refinery in Numaligarh\\n\\n###### Health crisis caused by a toxic discharge from a refinery in Numaligarh\\n\\nKhanapara Teer Result\\n\\n###### Khanapara Teer Result Today - 3rd July, 2025 - Khanapara Teer Target, Khanapara Teer Common Number Live Update\\n\\nBodoland Lottery Results\\n\\n###### Bodoland Lottery Results – 3rd July, 2025: Complete List of Winners and Ticket Numbers',\n",
       "  'score': 0.6450534},\n",
       " {'title': 'Assam News - India Today NE',\n",
       "  'url': 'https://www.indiatodayne.in/assam',\n",
       "  'content': 'Assam: 8-year-old girl kidnapped and murdered in Barpeta, three arrested\\n\\n## Assam: 8-year-old girl kidnapped and murdered in Barpeta, three arrested\\n\\nIn a heart-wrenching incident, an eight-year-old girl who was kidnapped from Kamarpara village in Assam’s Barpeta district on June 29 was found murdered and buried inside the house of the prime accused, police said on Thursday.\\n\\nAssam youth injured in firing by Bihar traders in Biswanath district [...] A hair regrowth awareness camp organized by Pankaj Pathak, aimed at addressing baldness-related concerns, was abruptly shut down by police authorities today, July 3 in Kokrajhar. The event, which was being held at the premises of the Kokrajhar District Sports Association, came to an unexpected halt midway after police officials intervened, citing lack of proper administrative permission.\\n\\n## Latest News\\n\\nCopyright©2025 Living Media India Limited. For reprint rights: Syndications Today',\n",
       "  'score': 0.6426349}]"
      ]
     },
     "execution_count": 53,
     "metadata": {},
     "output_type": "execute_result"
    }
   ],
   "source": [
    "tavily.invoke(\"provide me the recent news of Assam\")"
   ]
  },
  {
   "cell_type": "code",
   "execution_count": 54,
   "id": "cafd53c4",
   "metadata": {},
   "outputs": [],
   "source": [
    "tools=[arxiv,wiki,tavily]"
   ]
  },
  {
   "cell_type": "code",
   "execution_count": 55,
   "id": "376b300d",
   "metadata": {},
   "outputs": [],
   "source": [
    "from langchain_groq import ChatGroq\n",
    "llm=ChatGroq(model=\"gemma2-9b-it\")\n",
    "\n",
    "llm_with_tools= llm.bind_tools(tools)"
   ]
  },
  {
   "cell_type": "code",
   "execution_count": 56,
   "id": "91d599bd",
   "metadata": {},
   "outputs": [
    {
     "data": {
      "text/plain": [
       "[{'name': 'tavily_search_results_json',\n",
       "  'args': {'query': 'recent AI news'},\n",
       "  'id': '31techqmj',\n",
       "  'type': 'tool_call'}]"
      ]
     },
     "execution_count": 56,
     "metadata": {},
     "output_type": "execute_result"
    }
   ],
   "source": [
    "from pprint import pprint\n",
    "from langchain_core.messages import AIMessage, HumanMessage\n",
    "llm_with_tools.invoke([HumanMessage(content=f\"what is the recent AI news\")]).tool_calls"
   ]
  },
  {
   "cell_type": "code",
   "execution_count": 57,
   "id": "ef83fe88",
   "metadata": {},
   "outputs": [],
   "source": [
    "from langgraph.graph.message import add_messages\n",
    "from typing_extensions import TypedDict\n",
    "from langchain_core.messages import AnyMessage\n",
    "from typing import Annotated\n",
    "\n",
    "class State(TypedDict):\n",
    "    messages:Annotated[list[AnyMessage], add_messages]"
   ]
  },
  {
   "cell_type": "code",
   "execution_count": 59,
   "id": "4e6f8aa8",
   "metadata": {},
   "outputs": [
    {
     "data": {
      "image/png": "[encoded data removed]",
      "text/plain": [
       "<IPython.core.display.Image object>"
      ]
     },
     "metadata": {},
     "output_type": "display_data"
    }
   ],
   "source": [
    "from IPython.display import Image, display\n",
    "from langgraph.graph import StateGraph, START, END\n",
    "from langgraph.prebuilt import ToolNode\n",
    "from langgraph.prebuilt import tools_condition\n",
    "\n",
    "def tool_calling_llm(state:State):\n",
    "    return {\"messages\":[llm_with_tools.invoke(state[\"messages\"])]}\n",
    "\n",
    "\n",
    "builder = StateGraph(State)\n",
    "builder.add_node(\"tool_calling_llm\", tool_calling_llm)\n",
    "builder.add_node(\"tools\", ToolNode(tools))\n",
    "\n",
    "builder.add_edge(START, \"tool_calling_llm\")\n",
    "builder.add_conditional_edges(\n",
    "    \"tool_calling_llm\",\n",
    "    tools_condition,\n",
    ")\n",
    "builder.add_edge(\"tools\", END)\n",
    "\n",
    "\n",
    "graph= builder.compile()\n",
    "\n",
    "display(Image(graph.get_graph().draw_mermaid_png()))\n"
   ]
  },
  {
   "cell_type": "code",
   "execution_count": 60,
   "id": "25e49bd9",
   "metadata": {},
   "outputs": [
    {
     "name": "stdout",
     "output_type": "stream",
     "text": [
      "================================\u001b[1m Human Message \u001b[0m=================================\n",
      "\n",
      "What is attention is all you need\n",
      "==================================\u001b[1m Ai Message \u001b[0m==================================\n",
      "Tool Calls:\n",
      "  wikipedia (ft4g9mvsh)\n",
      " Call ID: ft4g9mvsh\n",
      "  Args:\n",
      "    query: Attention is all you need\n",
      "=================================\u001b[1m Tool Message \u001b[0m=================================\n",
      "Name: wikipedia\n",
      "\n",
      "Page: Attention Is All You Need\n",
      "Summary: \"Attention Is All You Need\" is a 2017 landmark research paper in machine learning authored by eight scientists working at Google. The paper introduced a new deep learning architecture known as the transformer, based on the attention mechanism proposed in 2014 by Bahdanau et al. It is considered a foundational paper in modern artificial intelligence, and a main contributor to the AI boom, as the transformer approach has become the main architecture of a wi\n"
     ]
    }
   ],
   "source": [
    "messages=graph.invoke({\"messages\":HumanMessage(content=\"What is attention is all you need\")})\n",
    "for message in messages['messages']:\n",
    "    message.pretty_print()"
   ]
  },
  {
   "cell_type": "code",
   "execution_count": 61,
   "id": "c7551f53",
   "metadata": {},
   "outputs": [
    {
     "name": "stdout",
     "output_type": "stream",
     "text": [
      "================================\u001b[1m Human Message \u001b[0m=================================\n",
      "\n",
      "provide me recent north east news\n",
      "==================================\u001b[1m Ai Message \u001b[0m==================================\n",
      "Tool Calls:\n",
      "  tavily_search_results_json (myb1scncs)\n",
      " Call ID: myb1scncs\n",
      "  Args:\n",
      "    query: recent news north east\n",
      "=================================\u001b[1m Tool Message \u001b[0m=================================\n",
      "Name: tavily_search_results_json\n",
      "\n",
      "[{\"title\": \"North East England news - Yahoo UK\", \"url\": \"https://uk.yahoo.com/topics/north-east-england-news/\", \"content\": \"### News\\n\\n### Life\\n\\n### Movies\\n\\n### Finance\\n\\n### Sport\\n\\n### UK English Select edition\\n\\n# Yahoo Home\\n\\n### Topic\\n\\n# North East England news\\n\\n#### Follow the latest news from Northumberland, Durham, Tyne & Wear, Newcastle and Sunderland including breaking stories, weather, travel and crime\\n\\n## Top North East stories\\n\\nChronicle Live\\n\\n### Train passenger left former pal with broken eye socket over 'comments about his mum'\\n\\nThe Independent\", \"score\": 0.7449724}, {\"title\": \"Latest North East News, Sport, Business and What's On - Teesside Live\", \"url\": \"https://www.gazettelive.co.uk/news/\", \"content\": \"News · Hartlepool 'drugs transporter' among gang caged after North East boxer's £1m cocaine ring toppled · 'I'll love and miss you every day': Emotional tributes\", \"score\": 0.73023266}, {\"title\": \"Northeast news - Today's latest updates\", \"url\": \"https://www.cbsnews.com/tag/northeast/\", \"content\": \"Severe weather slammed the Northeast, causing flooding, road damage and mudslides. In Connecticut, some roads collapsed under the weight of flash floods. CBS News correspondent Nikki Battiste reports from Sandy Hook, and CBS News meteorologist Grant Gilmore has the latest weather forecast.\\n\\n \\n\\n#### Debby remnants disrupt flights in Northeast [...] As a heat dome brings dangerous temperatures to the Northeast, 911 switchboards across Massachusetts were temporarily disrupted by a statewide outage Tuesday, while New York Gov. Kathy Hochul declared a heat emergency, activating the National Guard in at least two cities to assist. Nikki Battiste reports.\\n\\n \\n\\n#### Heat wave puts millions at risk in U.S. [...] Watch CBS News\\n\\n## Northeast\\n\\n \\n\\n#### \\n\\n#### Extreme heat to hit triple digits\\n\\nThe heat wave sizzling through the Northeast is expected to yield triple-digit temperatures in New York and Boston. CBS News meteorologist Zoe Mintz has more details.\\n\\n \\n\\n#### How to handle the dangerous heat\\n\\nThe Northeast U.S. is experiencing record-breaking heat, with some temperatures expected to reach more than 100 degrees. CBS News correspondent Nancy Chen has more on how to stay cool.\\n\\nmeasles2.jpg\", \"score\": 0.6917478}, {\"title\": \"northeast - latest news, breaking stories and comment\", \"url\": \"https://www.the-independent.com/topic/northeast\", \"content\": \"## The Latest: Record snowfall projected in Pennsylvania\\n\\nVirus Outbreak China\\n\\n## Asia Today: China sees virus outbreaks across its northeast\\n\\nVirus Outbreak China\\n\\n## Asia Today: China's cases spike ahead of WHO research visit\\n\\nWintry Weather Pennsylvania\\n\\n## The Latest: Record snowfall projected in Pennsylvania\\n\\nWintry Weather Massachusetts\\n\\n## 'If not one thing, it's another': Northeast preps for storm\\n\\nWintery Weather\\n\\n## Lights go out, roads dicey as wintry storm batters Northeast [...] ## Death toll from glacial burst in India’s northeast rises to 40\\n\\n<p>A still from drone footage of city blocks flooded in Montpelier, Vermont </p>\\n\\n## Vermont flooding claims first victim with more rain predicted\\n\\n<p>Flooding surrounds a parking lot, in Highland Falls, Orange County, New York on July 9, 2023</p>\\n\\n## State of emergency declared in Vermont as torrents cut off towns\\n\\n## Heavy flooding creates waterfalls onto Hudson Valley roads [...] ## The Latest: Zeta weakens into a tropical storm over Alabama\\n\\nPeople in Newcastle wearing face-coverings to protect from coronavirus\\n\\n## Threat of tier 3 Covid status put on hold for northeast and Teesside\\n\\nPeople in Newcastle wear protective face coverings \\n\\n## Northeast councils unite to oppose toughest coronavirus restrictions\\n\\nSevere Weather-Strong Winds\\n\\n## Winds rake US Northeast, leaving thousands without power\\n\\nPubs and restaurants now have to close at 10pm\", \"score\": 0.6721816}, {\"title\": \"North East - latest news, breaking stories and comment\", \"url\": \"https://www.the-independent.com/topic/north-east\", \"content\": \"North East ; Football · Eddie Howe heaps praise on Sven Botman after return from injury at Tottenham ; Money · UK house prices ended 2024 on a strong footing,\", \"score\": 0.6625569}]\n"
     ]
    }
   ],
   "source": [
    "messages=graph.invoke({\"messages\":HumanMessage(content=\"provide me recent north east news\")})\n",
    "for message in messages['messages']:\n",
    "    message.pretty_print()"
   ]
  },
  {
   "cell_type": "code",
   "execution_count": null,
   "id": "65dee634",
   "metadata": {},
   "outputs": [],
   "source": []
  },
  {
   "cell_type": "code",
   "execution_count": null,
   "id": "bcf7968c",
   "metadata": {},
   "outputs": [],
   "source": []
  },
  {
   "cell_type": "code",
   "execution_count": 1,
   "id": "53abb3e7",
   "metadata": {},
   "outputs": [
    {
     "name": "stdout",
     "output_type": "stream",
     "text": [
      "Collecting langchain-community\n",
      "  Downloading langchain_community-0.3.27-py3-none-any.whl.metadata (2.9 kB)\n",
      "Requirement already satisfied: langchain-core<1.0.0,>=0.3.66 in c:\\users\\aijul\\desktop\\22\\langgraph\\venv\\lib\\site-packages (from langchain-community) (0.3.67)\n",
      "Collecting langchain<1.0.0,>=0.3.26 (from langchain-community)\n",
      "  Using cached langchain-0.3.26-py3-none-any.whl.metadata (7.8 kB)\n",
      "Collecting SQLAlchemy<3,>=1.4 (from langchain-community)\n",
      "  Downloading sqlalchemy-2.0.41-cp312-cp312-win_amd64.whl.metadata (9.8 kB)\n",
      "Requirement already satisfied: requests<3,>=2 in c:\\users\\aijul\\desktop\\22\\langgraph\\venv\\lib\\site-packages (from langchain-community) (2.32.4)\n",
      "Requirement already satisfied: PyYAML>=5.3 in c:\\users\\aijul\\desktop\\22\\langgraph\\venv\\lib\\site-packages (from langchain-community) (6.0.2)\n",
      "Collecting aiohttp<4.0.0,>=3.8.3 (from langchain-community)\n",
      "  Downloading aiohttp-3.12.13-cp312-cp312-win_amd64.whl.metadata (7.9 kB)\n",
      "Requirement already satisfied: tenacity!=8.4.0,<10,>=8.1.0 in c:\\users\\aijul\\desktop\\22\\langgraph\\venv\\lib\\site-packages (from langchain-community) (9.1.2)\n",
      "Collecting dataclasses-json<0.7,>=0.5.7 (from langchain-community)\n",
      "  Using cached dataclasses_json-0.6.7-py3-none-any.whl.metadata (25 kB)\n",
      "Collecting pydantic-settings<3.0.0,>=2.4.0 (from langchain-community)\n",
      "  Downloading pydantic_settings-2.10.1-py3-none-any.whl.metadata (3.4 kB)\n",
      "Requirement already satisfied: langsmith>=0.1.125 in c:\\users\\aijul\\desktop\\22\\langgraph\\venv\\lib\\site-packages (from langchain-community) (0.4.4)\n",
      "Collecting httpx-sse<1.0.0,>=0.4.0 (from langchain-community)\n",
      "  Downloading httpx_sse-0.4.1-py3-none-any.whl.metadata (9.4 kB)\n",
      "Collecting numpy>=1.26.2 (from langchain-community)\n",
      "  Downloading numpy-2.3.1-cp312-cp312-win_amd64.whl.metadata (60 kB)\n",
      "Collecting aiohappyeyeballs>=2.5.0 (from aiohttp<4.0.0,>=3.8.3->langchain-community)\n",
      "  Using cached aiohappyeyeballs-2.6.1-py3-none-any.whl.metadata (5.9 kB)\n",
      "Collecting aiosignal>=1.1.2 (from aiohttp<4.0.0,>=3.8.3->langchain-community)\n",
      "  Using cached aiosignal-1.3.2-py2.py3-none-any.whl.metadata (3.8 kB)\n",
      "Collecting attrs>=17.3.0 (from aiohttp<4.0.0,>=3.8.3->langchain-community)\n",
      "  Using cached attrs-25.3.0-py3-none-any.whl.metadata (10 kB)\n",
      "Collecting frozenlist>=1.1.1 (from aiohttp<4.0.0,>=3.8.3->langchain-community)\n",
      "  Downloading frozenlist-1.7.0-cp312-cp312-win_amd64.whl.metadata (19 kB)\n",
      "Collecting multidict<7.0,>=4.5 (from aiohttp<4.0.0,>=3.8.3->langchain-community)\n",
      "  Downloading multidict-6.6.3-cp312-cp312-win_amd64.whl.metadata (5.4 kB)\n",
      "Collecting propcache>=0.2.0 (from aiohttp<4.0.0,>=3.8.3->langchain-community)\n",
      "  Downloading propcache-0.3.2-cp312-cp312-win_amd64.whl.metadata (12 kB)\n",
      "Collecting yarl<2.0,>=1.17.0 (from aiohttp<4.0.0,>=3.8.3->langchain-community)\n",
      "  Downloading yarl-1.20.1-cp312-cp312-win_amd64.whl.metadata (76 kB)\n",
      "Collecting marshmallow<4.0.0,>=3.18.0 (from dataclasses-json<0.7,>=0.5.7->langchain-community)\n",
      "  Using cached marshmallow-3.26.1-py3-none-any.whl.metadata (7.3 kB)\n",
      "Collecting typing-inspect<1,>=0.4.0 (from dataclasses-json<0.7,>=0.5.7->langchain-community)\n",
      "  Using cached typing_inspect-0.9.0-py3-none-any.whl.metadata (1.5 kB)\n",
      "Collecting langchain-text-splitters<1.0.0,>=0.3.8 (from langchain<1.0.0,>=0.3.26->langchain-community)\n",
      "  Using cached langchain_text_splitters-0.3.8-py3-none-any.whl.metadata (1.9 kB)\n",
      "Requirement already satisfied: pydantic<3.0.0,>=2.7.4 in c:\\users\\aijul\\desktop\\22\\langgraph\\venv\\lib\\site-packages (from langchain<1.0.0,>=0.3.26->langchain-community) (2.11.7)\n",
      "Requirement already satisfied: jsonpatch<2.0,>=1.33 in c:\\users\\aijul\\desktop\\22\\langgraph\\venv\\lib\\site-packages (from langchain-core<1.0.0,>=0.3.66->langchain-community) (1.33)\n",
      "Requirement already satisfied: packaging<25,>=23.2 in c:\\users\\aijul\\desktop\\22\\langgraph\\venv\\lib\\site-packages (from langchain-core<1.0.0,>=0.3.66->langchain-community) (24.2)\n",
      "Requirement already satisfied: typing-extensions>=4.7 in c:\\users\\aijul\\desktop\\22\\langgraph\\venv\\lib\\site-packages (from langchain-core<1.0.0,>=0.3.66->langchain-community) (4.14.0)\n",
      "Requirement already satisfied: jsonpointer>=1.9 in c:\\users\\aijul\\desktop\\22\\langgraph\\venv\\lib\\site-packages (from jsonpatch<2.0,>=1.33->langchain-core<1.0.0,>=0.3.66->langchain-community) (3.0.0)\n",
      "Requirement already satisfied: annotated-types>=0.6.0 in c:\\users\\aijul\\desktop\\22\\langgraph\\venv\\lib\\site-packages (from pydantic<3.0.0,>=2.7.4->langchain<1.0.0,>=0.3.26->langchain-community) (0.7.0)\n",
      "Requirement already satisfied: pydantic-core==2.33.2 in c:\\users\\aijul\\desktop\\22\\langgraph\\venv\\lib\\site-packages (from pydantic<3.0.0,>=2.7.4->langchain<1.0.0,>=0.3.26->langchain-community) (2.33.2)\n",
      "Requirement already satisfied: typing-inspection>=0.4.0 in c:\\users\\aijul\\desktop\\22\\langgraph\\venv\\lib\\site-packages (from pydantic<3.0.0,>=2.7.4->langchain<1.0.0,>=0.3.26->langchain-community) (0.4.1)\n",
      "Requirement already satisfied: python-dotenv>=0.21.0 in c:\\users\\aijul\\desktop\\22\\langgraph\\venv\\lib\\site-packages (from pydantic-settings<3.0.0,>=2.4.0->langchain-community) (1.1.1)\n",
      "Requirement already satisfied: charset_normalizer<4,>=2 in c:\\users\\aijul\\desktop\\22\\langgraph\\venv\\lib\\site-packages (from requests<3,>=2->langchain-community) (3.4.2)\n",
      "Requirement already satisfied: idna<4,>=2.5 in c:\\users\\aijul\\desktop\\22\\langgraph\\venv\\lib\\site-packages (from requests<3,>=2->langchain-community) (3.10)\n",
      "Requirement already satisfied: urllib3<3,>=1.21.1 in c:\\users\\aijul\\desktop\\22\\langgraph\\venv\\lib\\site-packages (from requests<3,>=2->langchain-community) (2.5.0)\n",
      "Requirement already satisfied: certifi>=2017.4.17 in c:\\users\\aijul\\desktop\\22\\langgraph\\venv\\lib\\site-packages (from requests<3,>=2->langchain-community) (2025.6.15)\n",
      "Collecting greenlet>=1 (from SQLAlchemy<3,>=1.4->langchain-community)\n",
      "  Downloading greenlet-3.2.3-cp312-cp312-win_amd64.whl.metadata (4.2 kB)\n",
      "Collecting mypy-extensions>=0.3.0 (from typing-inspect<1,>=0.4.0->dataclasses-json<0.7,>=0.5.7->langchain-community)\n",
      "  Using cached mypy_extensions-1.1.0-py3-none-any.whl.metadata (1.1 kB)\n",
      "Requirement already satisfied: httpx<1,>=0.23.0 in c:\\users\\aijul\\desktop\\22\\langgraph\\venv\\lib\\site-packages (from langsmith>=0.1.125->langchain-community) (0.28.1)\n",
      "Requirement already satisfied: orjson<4.0.0,>=3.9.14 in c:\\users\\aijul\\desktop\\22\\langgraph\\venv\\lib\\site-packages (from langsmith>=0.1.125->langchain-community) (3.10.18)\n",
      "Requirement already satisfied: requests-toolbelt<2.0.0,>=1.0.0 in c:\\users\\aijul\\desktop\\22\\langgraph\\venv\\lib\\site-packages (from langsmith>=0.1.125->langchain-community) (1.0.0)\n",
      "Requirement already satisfied: zstandard<0.24.0,>=0.23.0 in c:\\users\\aijul\\desktop\\22\\langgraph\\venv\\lib\\site-packages (from langsmith>=0.1.125->langchain-community) (0.23.0)\n",
      "Requirement already satisfied: anyio in c:\\users\\aijul\\desktop\\22\\langgraph\\venv\\lib\\site-packages (from httpx<1,>=0.23.0->langsmith>=0.1.125->langchain-community) (4.9.0)\n",
      "Requirement already satisfied: httpcore==1.* in c:\\users\\aijul\\desktop\\22\\langgraph\\venv\\lib\\site-packages (from httpx<1,>=0.23.0->langsmith>=0.1.125->langchain-community) (1.0.9)\n",
      "Requirement already satisfied: h11>=0.16 in c:\\users\\aijul\\desktop\\22\\langgraph\\venv\\lib\\site-packages (from httpcore==1.*->httpx<1,>=0.23.0->langsmith>=0.1.125->langchain-community) (0.16.0)\n",
      "Requirement already satisfied: sniffio>=1.1 in c:\\users\\aijul\\desktop\\22\\langgraph\\venv\\lib\\site-packages (from anyio->httpx<1,>=0.23.0->langsmith>=0.1.125->langchain-community) (1.3.1)\n",
      "Downloading langchain_community-0.3.27-py3-none-any.whl (2.5 MB)\n",
      "   ---------------------------------------- 0.0/2.5 MB ? eta -:--:--\n",
      "   ---------------------------------------- 0.0/2.5 MB ? eta -:--:--\n",
      "   ---- ----------------------------------- 0.3/2.5 MB ? eta -:--:--\n",
      "   -------- ------------------------------- 0.5/2.5 MB 885.6 kB/s eta 0:00:03\n",
      "   -------- ------------------------------- 0.5/2.5 MB 885.6 kB/s eta 0:00:03\n",
      "   ------------ --------------------------- 0.8/2.5 MB 860.9 kB/s eta 0:00:03\n",
      "   ------------ --------------------------- 0.8/2.5 MB 860.9 kB/s eta 0:00:03\n",
      "   ------------ --------------------------- 0.8/2.5 MB 860.9 kB/s eta 0:00:03\n",
      "   ---------------- ----------------------- 1.0/2.5 MB 653.7 kB/s eta 0:00:03\n",
      "   -------------------- ------------------- 1.3/2.5 MB 699.0 kB/s eta 0:00:02\n",
      "   -------------------- ------------------- 1.3/2.5 MB 699.0 kB/s eta 0:00:02\n",
      "   ------------------------ --------------- 1.6/2.5 MB 717.0 kB/s eta 0:00:02\n",
      "   ----------------------------- ---------- 1.8/2.5 MB 745.8 kB/s eta 0:00:01\n",
      "   --------------------------------- ------ 2.1/2.5 MB 758.0 kB/s eta 0:00:01\n",
      "   --------------------------------- ------ 2.1/2.5 MB 758.0 kB/s eta 0:00:01\n",
      "   ------------------------------------- -- 2.4/2.5 MB 771.6 kB/s eta 0:00:01\n",
      "   ---------------------------------------- 2.5/2.5 MB 776.5 kB/s eta 0:00:00\n",
      "Downloading aiohttp-3.12.13-cp312-cp312-win_amd64.whl (447 kB)\n",
      "Using cached dataclasses_json-0.6.7-py3-none-any.whl (28 kB)\n",
      "Downloading httpx_sse-0.4.1-py3-none-any.whl (8.1 kB)\n",
      "Using cached langchain-0.3.26-py3-none-any.whl (1.0 MB)\n",
      "Using cached langchain_text_splitters-0.3.8-py3-none-any.whl (32 kB)\n",
      "Using cached marshmallow-3.26.1-py3-none-any.whl (50 kB)\n",
      "Downloading multidict-6.6.3-cp312-cp312-win_amd64.whl (45 kB)\n",
      "Downloading pydantic_settings-2.10.1-py3-none-any.whl (45 kB)\n",
      "Downloading sqlalchemy-2.0.41-cp312-cp312-win_amd64.whl (2.1 MB)\n",
      "   ---------------------------------------- 0.0/2.1 MB ? eta -:--:--\n",
      "   ---------------------------------------- 0.0/2.1 MB ? eta -:--:--\n",
      "   ---- ----------------------------------- 0.3/2.1 MB ? eta -:--:--\n",
      "   ---- ----------------------------------- 0.3/2.1 MB ? eta -:--:--\n",
      "   --------- ------------------------------ 0.5/2.1 MB 730.2 kB/s eta 0:00:03\n",
      "   -------------- ------------------------- 0.8/2.1 MB 819.2 kB/s eta 0:00:02\n",
      "   -------------- ------------------------- 0.8/2.1 MB 819.2 kB/s eta 0:00:02\n",
      "   -------------- ------------------------- 0.8/2.1 MB 819.2 kB/s eta 0:00:02\n",
      "   ------------------- -------------------- 1.0/2.1 MB 621.7 kB/s eta 0:00:02\n",
      "   ------------------- -------------------- 1.0/2.1 MB 621.7 kB/s eta 0:00:02\n",
      "   ------------------------ --------------- 1.3/2.1 MB 671.3 kB/s eta 0:00:02\n",
      "   ----------------------------- ---------- 1.6/2.1 MB 705.1 kB/s eta 0:00:01\n",
      "   ----------------------------- ---------- 1.6/2.1 MB 705.1 kB/s eta 0:00:01\n",
      "   ---------------------------------- ----- 1.8/2.1 MB 724.2 kB/s eta 0:00:01\n",
      "   ---------------------------------------- 2.1/2.1 MB 749.1 kB/s eta 0:00:00\n",
      "Using cached typing_inspect-0.9.0-py3-none-any.whl (8.8 kB)\n",
      "Downloading yarl-1.20.1-cp312-cp312-win_amd64.whl (86 kB)\n",
      "Using cached aiohappyeyeballs-2.6.1-py3-none-any.whl (15 kB)\n",
      "Using cached aiosignal-1.3.2-py2.py3-none-any.whl (7.6 kB)\n",
      "Using cached attrs-25.3.0-py3-none-any.whl (63 kB)\n",
      "Downloading frozenlist-1.7.0-cp312-cp312-win_amd64.whl (43 kB)\n",
      "Downloading greenlet-3.2.3-cp312-cp312-win_amd64.whl (297 kB)\n",
      "Using cached mypy_extensions-1.1.0-py3-none-any.whl (5.0 kB)\n",
      "Downloading numpy-2.3.1-cp312-cp312-win_amd64.whl (12.7 MB)\n",
      "   ---------------------------------------- 0.0/12.7 MB ? eta -:--:--\n",
      "   ---------------------------------------- 0.0/12.7 MB ? eta -:--:--\n",
      "   ---------------------------------------- 0.0/12.7 MB ? eta -:--:--\n",
      "    --------------------------------------- 0.3/12.7 MB ? eta -:--:--\n",
      "   - -------------------------------------- 0.5/12.7 MB 728.2 kB/s eta 0:00:17\n",
      "   - -------------------------------------- 0.5/12.7 MB 728.2 kB/s eta 0:00:17\n",
      "   -- ------------------------------------- 0.8/12.7 MB 798.0 kB/s eta 0:00:15\n",
      "   --- ------------------------------------ 1.0/12.7 MB 798.4 kB/s eta 0:00:15\n",
      "   --- ------------------------------------ 1.0/12.7 MB 798.4 kB/s eta 0:00:15\n",
      "   ---- ----------------------------------- 1.3/12.7 MB 817.9 kB/s eta 0:00:14\n",
      "   ---- ----------------------------------- 1.6/12.7 MB 838.6 kB/s eta 0:00:14\n",
      "   ----- ---------------------------------- 1.8/12.7 MB 838.9 kB/s eta 0:00:13\n",
      "   ----- ---------------------------------- 1.8/12.7 MB 838.9 kB/s eta 0:00:13\n",
      "   ------ --------------------------------- 2.1/12.7 MB 844.8 kB/s eta 0:00:13\n",
      "   ------- -------------------------------- 2.4/12.7 MB 849.4 kB/s eta 0:00:13\n",
      "   ------- -------------------------------- 2.4/12.7 MB 849.4 kB/s eta 0:00:13\n",
      "   ------- -------------------------------- 2.4/12.7 MB 849.4 kB/s eta 0:00:13\n",
      "   -------- ------------------------------- 2.6/12.7 MB 778.1 kB/s eta 0:00:13\n",
      "   --------- ------------------------------ 2.9/12.7 MB 776.7 kB/s eta 0:00:13\n",
      "   --------- ------------------------------ 2.9/12.7 MB 776.7 kB/s eta 0:00:13\n",
      "   --------- ------------------------------ 3.1/12.7 MB 775.4 kB/s eta 0:00:13\n",
      "   ---------- ----------------------------- 3.4/12.7 MB 777.3 kB/s eta 0:00:12\n",
      "   ---------- ----------------------------- 3.4/12.7 MB 777.3 kB/s eta 0:00:12\n",
      "   ----------- ---------------------------- 3.7/12.7 MB 781.6 kB/s eta 0:00:12\n",
      "   ------------ --------------------------- 3.9/12.7 MB 790.8 kB/s eta 0:00:12\n",
      "   ------------ --------------------------- 3.9/12.7 MB 790.8 kB/s eta 0:00:12\n",
      "   ------------- -------------------------- 4.2/12.7 MB 788.8 kB/s eta 0:00:11\n",
      "   ------------- -------------------------- 4.5/12.7 MB 796.5 kB/s eta 0:00:11\n",
      "   ------------- -------------------------- 4.5/12.7 MB 796.5 kB/s eta 0:00:11\n",
      "   -------------- ------------------------- 4.7/12.7 MB 801.1 kB/s eta 0:00:11\n",
      "   --------------- ------------------------ 5.0/12.7 MB 792.6 kB/s eta 0:00:10\n",
      "   --------------- ------------------------ 5.0/12.7 MB 792.6 kB/s eta 0:00:10\n",
      "   ---------------- ----------------------- 5.2/12.7 MB 792.9 kB/s eta 0:00:10\n",
      "   ----------------- ---------------------- 5.5/12.7 MB 795.1 kB/s eta 0:00:10\n",
      "   ----------------- ---------------------- 5.5/12.7 MB 795.1 kB/s eta 0:00:10\n",
      "   ------------------ --------------------- 5.8/12.7 MB 798.9 kB/s eta 0:00:09\n",
      "   ------------------ --------------------- 6.0/12.7 MB 804.1 kB/s eta 0:00:09\n",
      "   ------------------- -------------------- 6.3/12.7 MB 807.2 kB/s eta 0:00:08\n",
      "   ------------------- -------------------- 6.3/12.7 MB 807.2 kB/s eta 0:00:08\n",
      "   -------------------- ------------------- 6.6/12.7 MB 808.5 kB/s eta 0:00:08\n",
      "   --------------------- ------------------ 6.8/12.7 MB 811.3 kB/s eta 0:00:08\n",
      "   --------------------- ------------------ 6.8/12.7 MB 811.3 kB/s eta 0:00:08\n",
      "   ---------------------- ----------------- 7.1/12.7 MB 813.8 kB/s eta 0:00:07\n",
      "   ----------------------- ---------------- 7.3/12.7 MB 814.7 kB/s eta 0:00:07\n",
      "   ----------------------- ---------------- 7.3/12.7 MB 814.7 kB/s eta 0:00:07\n",
      "   ----------------------- ---------------- 7.6/12.7 MB 811.3 kB/s eta 0:00:07\n",
      "   ----------------------- ---------------- 7.6/12.7 MB 811.3 kB/s eta 0:00:07\n",
      "   ----------------------- ---------------- 7.6/12.7 MB 811.3 kB/s eta 0:00:07\n",
      "   ------------------------ --------------- 7.9/12.7 MB 782.2 kB/s eta 0:00:07\n",
      "   ------------------------- -------------- 8.1/12.7 MB 783.9 kB/s eta 0:00:06\n",
      "   ------------------------- -------------- 8.1/12.7 MB 783.9 kB/s eta 0:00:06\n",
      "   -------------------------- ------------- 8.4/12.7 MB 786.8 kB/s eta 0:00:06\n",
      "   --------------------------- ------------ 8.7/12.7 MB 789.5 kB/s eta 0:00:06\n",
      "   --------------------------- ------------ 8.7/12.7 MB 789.5 kB/s eta 0:00:06\n",
      "   --------------------------- ------------ 8.9/12.7 MB 790.9 kB/s eta 0:00:05\n",
      "   ---------------------------- ----------- 9.2/12.7 MB 789.0 kB/s eta 0:00:05\n",
      "   ---------------------------- ----------- 9.2/12.7 MB 789.0 kB/s eta 0:00:05\n",
      "   ----------------------------- ---------- 9.4/12.7 MB 789.2 kB/s eta 0:00:05\n",
      "   ------------------------------ --------- 9.7/12.7 MB 790.5 kB/s eta 0:00:04\n",
      "   ------------------------------ --------- 9.7/12.7 MB 790.5 kB/s eta 0:00:04\n",
      "   ------------------------------- -------- 10.0/12.7 MB 786.8 kB/s eta 0:00:04\n",
      "   -------------------------------- ------- 10.2/12.7 MB 790.0 kB/s eta 0:00:04\n",
      "   -------------------------------- ------- 10.2/12.7 MB 790.0 kB/s eta 0:00:04\n",
      "   -------------------------------- ------- 10.5/12.7 MB 792.1 kB/s eta 0:00:03\n",
      "   --------------------------------- ------ 10.7/12.7 MB 793.2 kB/s eta 0:00:03\n",
      "   --------------------------------- ------ 10.7/12.7 MB 793.2 kB/s eta 0:00:03\n",
      "   ---------------------------------- ----- 11.0/12.7 MB 795.2 kB/s eta 0:00:03\n",
      "   ---------------------------------- ----- 11.0/12.7 MB 795.2 kB/s eta 0:00:03\n",
      "   ----------------------------------- ---- 11.3/12.7 MB 776.9 kB/s eta 0:00:02\n",
      "   ----------------------------------- ---- 11.3/12.7 MB 776.9 kB/s eta 0:00:02\n",
      "   ------------------------------------ --- 11.5/12.7 MB 779.1 kB/s eta 0:00:02\n",
      "   ------------------------------------- -- 11.8/12.7 MB 781.1 kB/s eta 0:00:02\n",
      "   ------------------------------------- -- 11.8/12.7 MB 781.1 kB/s eta 0:00:02\n",
      "   ------------------------------------- -- 12.1/12.7 MB 775.1 kB/s eta 0:00:01\n",
      "   ------------------------------------- -- 12.1/12.7 MB 775.1 kB/s eta 0:00:01\n",
      "   -------------------------------------- - 12.3/12.7 MB 771.0 kB/s eta 0:00:01\n",
      "   -------------------------------------- - 12.3/12.7 MB 771.0 kB/s eta 0:00:01\n",
      "   ---------------------------------------  12.6/12.7 MB 772.3 kB/s eta 0:00:01\n",
      "   ---------------------------------------- 12.7/12.7 MB 772.0 kB/s eta 0:00:00\n",
      "Downloading propcache-0.3.2-cp312-cp312-win_amd64.whl (41 kB)\n",
      "Installing collected packages: propcache, numpy, mypy-extensions, multidict, marshmallow, httpx-sse, greenlet, frozenlist, attrs, aiohappyeyeballs, yarl, typing-inspect, SQLAlchemy, aiosignal, pydantic-settings, dataclasses-json, aiohttp, langchain-text-splitters, langchain, langchain-community\n",
      "\n",
      "   -- -------------------------------------  1/20 [numpy]\n",
      "   -- -------------------------------------  1/20 [numpy]\n",
      "   -- -------------------------------------  1/20 [numpy]\n",
      "   -- -------------------------------------  1/20 [numpy]\n",
      "   -- -------------------------------------  1/20 [numpy]\n",
      "   -- -------------------------------------  1/20 [numpy]\n",
      "   -- -------------------------------------  1/20 [numpy]\n",
      "   -- -------------------------------------  1/20 [numpy]\n",
      "   -- -------------------------------------  1/20 [numpy]\n",
      "   -- -------------------------------------  1/20 [numpy]\n",
      "   -- -------------------------------------  1/20 [numpy]\n",
      "   -- -------------------------------------  1/20 [numpy]\n",
      "   -- -------------------------------------  1/20 [numpy]\n",
      "   -- -------------------------------------  1/20 [numpy]\n",
      "   -- -------------------------------------  1/20 [numpy]\n",
      "   -- -------------------------------------  1/20 [numpy]\n",
      "   -- -------------------------------------  1/20 [numpy]\n",
      "   -- -------------------------------------  1/20 [numpy]\n",
      "   -- -------------------------------------  1/20 [numpy]\n",
      "   -- -------------------------------------  1/20 [numpy]\n",
      "   -- -------------------------------------  1/20 [numpy]\n",
      "   -- -------------------------------------  1/20 [numpy]\n",
      "   -- -------------------------------------  1/20 [numpy]\n",
      "   -- -------------------------------------  1/20 [numpy]\n",
      "   -- -------------------------------------  1/20 [numpy]\n",
      "   -- -------------------------------------  1/20 [numpy]\n",
      "   -- -------------------------------------  1/20 [numpy]\n",
      "   -- -------------------------------------  1/20 [numpy]\n",
      "   -- -------------------------------------  1/20 [numpy]\n",
      "   -- -------------------------------------  1/20 [numpy]\n",
      "   -- -------------------------------------  1/20 [numpy]\n",
      "   -- -------------------------------------  1/20 [numpy]\n",
      "   -- -------------------------------------  1/20 [numpy]\n",
      "   -- -------------------------------------  1/20 [numpy]\n",
      "   -- -------------------------------------  1/20 [numpy]\n",
      "   -- -------------------------------------  1/20 [numpy]\n",
      "   -- -------------------------------------  1/20 [numpy]\n",
      "   -- -------------------------------------  1/20 [numpy]\n",
      "   -- -------------------------------------  1/20 [numpy]\n",
      "   ---- -----------------------------------  2/20 [mypy-extensions]\n",
      "   -------- -------------------------------  4/20 [marshmallow]\n",
      "   ------------ ---------------------------  6/20 [greenlet]\n",
      "   ------------ ---------------------------  6/20 [greenlet]\n",
      "   ---------------- -----------------------  8/20 [attrs]\n",
      "   ---------------- -----------------------  8/20 [attrs]\n",
      "   -------------------- ------------------- 10/20 [yarl]\n",
      "   ---------------------- ----------------- 11/20 [typing-inspect]\n",
      "   ------------------------ --------------- 12/20 [SQLAlchemy]\n",
      "   ------------------------ --------------- 12/20 [SQLAlchemy]\n",
      "   ------------------------ --------------- 12/20 [SQLAlchemy]\n",
      "   ------------------------ --------------- 12/20 [SQLAlchemy]\n",
      "   ------------------------ --------------- 12/20 [SQLAlchemy]\n",
      "   ------------------------ --------------- 12/20 [SQLAlchemy]\n",
      "   ------------------------ --------------- 12/20 [SQLAlchemy]\n",
      "   ------------------------ --------------- 12/20 [SQLAlchemy]\n",
      "   ------------------------ --------------- 12/20 [SQLAlchemy]\n",
      "   ------------------------ --------------- 12/20 [SQLAlchemy]\n",
      "   ------------------------ --------------- 12/20 [SQLAlchemy]\n",
      "   ------------------------ --------------- 12/20 [SQLAlchemy]\n",
      "   ------------------------ --------------- 12/20 [SQLAlchemy]\n",
      "   ------------------------ --------------- 12/20 [SQLAlchemy]\n",
      "   ------------------------ --------------- 12/20 [SQLAlchemy]\n",
      "   ------------------------ --------------- 12/20 [SQLAlchemy]\n",
      "   ------------------------ --------------- 12/20 [SQLAlchemy]\n",
      "   ---------------------------- ----------- 14/20 [pydantic-settings]\n",
      "   -------------------------------- ------- 16/20 [aiohttp]\n",
      "   -------------------------------- ------- 16/20 [aiohttp]\n",
      "   -------------------------------- ------- 16/20 [aiohttp]\n",
      "   ---------------------------------- ----- 17/20 [langchain-text-splitters]\n",
      "   ------------------------------------ --- 18/20 [langchain]\n",
      "   ------------------------------------ --- 18/20 [langchain]\n",
      "   ------------------------------------ --- 18/20 [langchain]\n",
      "   ------------------------------------ --- 18/20 [langchain]\n",
      "   ------------------------------------ --- 18/20 [langchain]\n",
      "   ------------------------------------ --- 18/20 [langchain]\n",
      "   ------------------------------------ --- 18/20 [langchain]\n",
      "   ------------------------------------ --- 18/20 [langchain]\n",
      "   ------------------------------------ --- 18/20 [langchain]\n",
      "   ------------------------------------ --- 18/20 [langchain]\n",
      "   ------------------------------------ --- 18/20 [langchain]\n",
      "   ------------------------------------ --- 18/20 [langchain]\n",
      "   ------------------------------------ --- 18/20 [langchain]\n",
      "   ------------------------------------ --- 18/20 [langchain]\n",
      "   ------------------------------------ --- 18/20 [langchain]\n",
      "   ------------------------------------ --- 18/20 [langchain]\n",
      "   ------------------------------------ --- 18/20 [langchain]\n",
      "   ------------------------------------ --- 18/20 [langchain]\n",
      "   ------------------------------------ --- 18/20 [langchain]\n",
      "   ------------------------------------ --- 18/20 [langchain]\n",
      "   ------------------------------------ --- 18/20 [langchain]\n",
      "   ------------------------------------ --- 18/20 [langchain]\n",
      "   ------------------------------------ --- 18/20 [langchain]\n",
      "   ------------------------------------ --- 18/20 [langchain]\n",
      "   ------------------------------------ --- 18/20 [langchain]\n",
      "   ------------------------------------ --- 18/20 [langchain]\n",
      "   ------------------------------------ --- 18/20 [langchain]\n",
      "   ------------------------------------ --- 18/20 [langchain]\n",
      "   ------------------------------------ --- 18/20 [langchain]\n",
      "   ------------------------------------ --- 18/20 [langchain]\n",
      "   ------------------------------------ --- 18/20 [langchain]\n",
      "   ------------------------------------ --- 18/20 [langchain]\n",
      "   ------------------------------------ --- 18/20 [langchain]\n",
      "   ------------------------------------ --- 18/20 [langchain]\n",
      "   ------------------------------------ --- 18/20 [langchain]\n",
      "   ------------------------------------ --- 18/20 [langchain]\n",
      "   -------------------------------------- - 19/20 [langchain-community]\n",
      "   -------------------------------------- - 19/20 [langchain-community]\n",
      "   -------------------------------------- - 19/20 [langchain-community]\n",
      "   -------------------------------------- - 19/20 [langchain-community]\n",
      "   -------------------------------------- - 19/20 [langchain-community]\n",
      "   -------------------------------------- - 19/20 [langchain-community]\n",
      "   -------------------------------------- - 19/20 [langchain-community]\n",
      "   -------------------------------------- - 19/20 [langchain-community]\n",
      "   -------------------------------------- - 19/20 [langchain-community]\n",
      "   -------------------------------------- - 19/20 [langchain-community]\n",
      "   -------------------------------------- - 19/20 [langchain-community]\n",
      "   -------------------------------------- - 19/20 [langchain-community]\n",
      "   -------------------------------------- - 19/20 [langchain-community]\n",
      "   -------------------------------------- - 19/20 [langchain-community]\n",
      "   -------------------------------------- - 19/20 [langchain-community]\n",
      "   -------------------------------------- - 19/20 [langchain-community]\n",
      "   -------------------------------------- - 19/20 [langchain-community]\n",
      "   -------------------------------------- - 19/20 [langchain-community]\n",
      "   -------------------------------------- - 19/20 [langchain-community]\n",
      "   -------------------------------------- - 19/20 [langchain-community]\n",
      "   -------------------------------------- - 19/20 [langchain-community]\n",
      "   -------------------------------------- - 19/20 [langchain-community]\n",
      "   -------------------------------------- - 19/20 [langchain-community]\n",
      "   -------------------------------------- - 19/20 [langchain-community]\n",
      "   -------------------------------------- - 19/20 [langchain-community]\n",
      "   -------------------------------------- - 19/20 [langchain-community]\n",
      "   -------------------------------------- - 19/20 [langchain-community]\n",
      "   -------------------------------------- - 19/20 [langchain-community]\n",
      "   -------------------------------------- - 19/20 [langchain-community]\n",
      "   -------------------------------------- - 19/20 [langchain-community]\n",
      "   -------------------------------------- - 19/20 [langchain-community]\n",
      "   -------------------------------------- - 19/20 [langchain-community]\n",
      "   -------------------------------------- - 19/20 [langchain-community]\n",
      "   -------------------------------------- - 19/20 [langchain-community]\n",
      "   -------------------------------------- - 19/20 [langchain-community]\n",
      "   ---------------------------------------- 20/20 [langchain-community]\n",
      "\n",
      "Successfully installed SQLAlchemy-2.0.41 aiohappyeyeballs-2.6.1 aiohttp-3.12.13 aiosignal-1.3.2 attrs-25.3.0 dataclasses-json-0.6.7 frozenlist-1.7.0 greenlet-3.2.3 httpx-sse-0.4.1 langchain-0.3.26 langchain-community-0.3.27 langchain-text-splitters-0.3.8 marshmallow-3.26.1 multidict-6.6.3 mypy-extensions-1.1.0 numpy-2.3.1 propcache-0.3.2 pydantic-settings-2.10.1 typing-inspect-0.9.0 yarl-1.20.1\n"
     ]
    }
   ],
   "source": [
    "!pip install langchain-community"
   ]
  },
  {
   "cell_type": "code",
   "execution_count": 5,
   "id": "ac41608b",
   "metadata": {},
   "outputs": [
    {
     "name": "stdout",
     "output_type": "stream",
     "text": [
      "Collecting arxiv\n",
      "  Downloading arxiv-2.2.0-py3-none-any.whl.metadata (6.3 kB)\n",
      "Collecting feedparser~=6.0.10 (from arxiv)\n",
      "  Downloading feedparser-6.0.11-py3-none-any.whl.metadata (2.4 kB)\n",
      "Requirement already satisfied: requests~=2.32.0 in c:\\users\\aijul\\desktop\\22\\langgraph\\venv\\lib\\site-packages (from arxiv) (2.32.4)\n",
      "Collecting sgmllib3k (from feedparser~=6.0.10->arxiv)\n",
      "  Downloading sgmllib3k-1.0.0.tar.gz (5.8 kB)\n",
      "  Preparing metadata (setup.py): started\n",
      "  Preparing metadata (setup.py): finished with status 'done'\n",
      "Requirement already satisfied: charset_normalizer<4,>=2 in c:\\users\\aijul\\desktop\\22\\langgraph\\venv\\lib\\site-packages (from requests~=2.32.0->arxiv) (3.4.2)\n",
      "Requirement already satisfied: idna<4,>=2.5 in c:\\users\\aijul\\desktop\\22\\langgraph\\venv\\lib\\site-packages (from requests~=2.32.0->arxiv) (3.10)\n",
      "Requirement already satisfied: urllib3<3,>=1.21.1 in c:\\users\\aijul\\desktop\\22\\langgraph\\venv\\lib\\site-packages (from requests~=2.32.0->arxiv) (2.5.0)\n",
      "Requirement already satisfied: certifi>=2017.4.17 in c:\\users\\aijul\\desktop\\22\\langgraph\\venv\\lib\\site-packages (from requests~=2.32.0->arxiv) (2025.6.15)\n",
      "Downloading arxiv-2.2.0-py3-none-any.whl (11 kB)\n",
      "Downloading feedparser-6.0.11-py3-none-any.whl (81 kB)\n",
      "Building wheels for collected packages: sgmllib3k\n",
      "  Building wheel for sgmllib3k (setup.py): started\n",
      "  Building wheel for sgmllib3k (setup.py): finished with status 'done'\n",
      "  Created wheel for sgmllib3k: filename=sgmllib3k-1.0.0-py3-none-any.whl size=6105 sha256=9565baff07269c84e628844b6df1ff36c0e6b4d4ccacfb2c478ecd9f2d85f9e3\n",
      "  Stored in directory: c:\\users\\aijul\\appdata\\local\\pip\\cache\\wheels\\03\\f5\\1a\\23761066dac1d0e8e683e5fdb27e12de53209d05a4a37e6246\n",
      "Successfully built sgmllib3k\n",
      "Installing collected packages: sgmllib3k, feedparser, arxiv\n",
      "\n",
      "   ---------------------------------------- 3/3 [arxiv]\n",
      "\n",
      "Successfully installed arxiv-2.2.0 feedparser-6.0.11 sgmllib3k-1.0.0\n"
     ]
    },
    {
     "name": "stderr",
     "output_type": "stream",
     "text": [
      "  DEPRECATION: Building 'sgmllib3k' using the legacy setup.py bdist_wheel mechanism, which will be removed in a future version. pip 25.3 will enforce this behaviour change. A possible replacement is to use the standardized build interface by setting the `--use-pep517` option, (possibly combined with `--no-build-isolation`), or adding a `pyproject.toml` file to the source tree of 'sgmllib3k'. Discussion can be found at https://github.com/pypa/pip/issues/6334\n"
     ]
    }
   ],
   "source": [
    "!pip install arxiv"
   ]
  },
  {
   "cell_type": "code",
   "execution_count": 6,
   "id": "9dd6fa29",
   "metadata": {},
   "outputs": [
    {
     "name": "stdout",
     "output_type": "stream",
     "text": [
      "Collecting wikipedia\n",
      "  Downloading wikipedia-1.4.0.tar.gz (27 kB)\n",
      "  Preparing metadata (setup.py): started\n",
      "  Preparing metadata (setup.py): finished with status 'done'\n",
      "Collecting beautifulsoup4 (from wikipedia)\n",
      "  Downloading beautifulsoup4-4.13.4-py3-none-any.whl.metadata (3.8 kB)\n",
      "Requirement already satisfied: requests<3.0.0,>=2.0.0 in c:\\users\\aijul\\desktop\\22\\langgraph\\venv\\lib\\site-packages (from wikipedia) (2.32.4)\n",
      "Requirement already satisfied: charset_normalizer<4,>=2 in c:\\users\\aijul\\desktop\\22\\langgraph\\venv\\lib\\site-packages (from requests<3.0.0,>=2.0.0->wikipedia) (3.4.2)\n",
      "Requirement already satisfied: idna<4,>=2.5 in c:\\users\\aijul\\desktop\\22\\langgraph\\venv\\lib\\site-packages (from requests<3.0.0,>=2.0.0->wikipedia) (3.10)\n",
      "Requirement already satisfied: urllib3<3,>=1.21.1 in c:\\users\\aijul\\desktop\\22\\langgraph\\venv\\lib\\site-packages (from requests<3.0.0,>=2.0.0->wikipedia) (2.5.0)\n",
      "Requirement already satisfied: certifi>=2017.4.17 in c:\\users\\aijul\\desktop\\22\\langgraph\\venv\\lib\\site-packages (from requests<3.0.0,>=2.0.0->wikipedia) (2025.6.15)\n",
      "Collecting soupsieve>1.2 (from beautifulsoup4->wikipedia)\n",
      "  Downloading soupsieve-2.7-py3-none-any.whl.metadata (4.6 kB)\n",
      "Requirement already satisfied: typing-extensions>=4.0.0 in c:\\users\\aijul\\desktop\\22\\langgraph\\venv\\lib\\site-packages (from beautifulsoup4->wikipedia) (4.14.0)\n",
      "Downloading beautifulsoup4-4.13.4-py3-none-any.whl (187 kB)\n",
      "Downloading soupsieve-2.7-py3-none-any.whl (36 kB)\n",
      "Building wheels for collected packages: wikipedia\n",
      "  Building wheel for wikipedia (setup.py): started\n",
      "  Building wheel for wikipedia (setup.py): finished with status 'done'\n",
      "  Created wheel for wikipedia: filename=wikipedia-1.4.0-py3-none-any.whl size=11785 sha256=b22e25730c00bd351d321d076118b7f6870a165c25a6e8ddd19d5cb34ea791b4\n",
      "  Stored in directory: c:\\users\\aijul\\appdata\\local\\pip\\cache\\wheels\\63\\47\\7c\\a9688349aa74d228ce0a9023229c6c0ac52ca2a40fe87679b8\n",
      "Successfully built wikipedia\n",
      "Installing collected packages: soupsieve, beautifulsoup4, wikipedia\n",
      "\n",
      "   ------------- -------------------------- 1/3 [beautifulsoup4]\n",
      "   ---------------------------------------- 3/3 [wikipedia]\n",
      "\n",
      "Successfully installed beautifulsoup4-4.13.4 soupsieve-2.7 wikipedia-1.4.0\n"
     ]
    },
    {
     "name": "stderr",
     "output_type": "stream",
     "text": [
      "  DEPRECATION: Building 'wikipedia' using the legacy setup.py bdist_wheel mechanism, which will be removed in a future version. pip 25.3 will enforce this behaviour change. A possible replacement is to use the standardized build interface by setting the `--use-pep517` option, (possibly combined with `--no-build-isolation`), or adding a `pyproject.toml` file to the source tree of 'wikipedia'. Discussion can be found at https://github.com/pypa/pip/issues/6334\n"
     ]
    }
   ],
   "source": [
    "!pip install wikipedia"
   ]
  },
  {
   "cell_type": "code",
   "execution_count": null,
   "id": "026f56ca",
   "metadata": {},
   "outputs": [],
   "source": []
  }
 ],
 "metadata": {
  "kernelspec": {
   "display_name": "Python 3",
   "language": "python",
   "name": "python3"
  },
  "language_info": {
   "codemirror_mode": {
    "name": "ipython",
    "version": 3
   },
   "file_extension": ".py",
   "mimetype": "text/x-python",
   "name": "python",
   "nbconvert_exporter": "python",
   "pygments_lexer": "ipython3",
   "version": "3.12.0"
  }
 },
 "nbformat": 4,
 "nbformat_minor": 5
}
